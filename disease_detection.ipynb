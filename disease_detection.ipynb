{
  "nbformat": 4,
  "nbformat_minor": 0,
  "metadata": {
    "colab": {
      "provenance": []
    },
    "kernelspec": {
      "name": "python3",
      "display_name": "Python 3"
    },
    "language_info": {
      "name": "python"
    }
  },
  "cells": [
    {
      "cell_type": "code",
      "execution_count": 2,
      "metadata": {
        "id": "235H0UwchNP1"
      },
      "outputs": [],
      "source": [
        "import numpy as np\n",
        "import pandas as pd\n",
        "import matplotlib.pyplot as plt\n",
        "from sklearn.model_selection import train_test_split\n",
        "from sklearn.linear_model import LogisticRegression\n",
        "from sklearn.naive_bayes import MultinomialNB\n",
        "from sklearn.tree import DecisionTreeClassifier\n",
        "from sklearn.neighbors import KNeighborsClassifier\n",
        "from sklearn.metrics import confusion_matrix\n",
        "from sklearn.metrics import accuracy_score\n",
        "from sklearn.neural_network import MLPClassifier\n",
        "from pandas.plotting import scatter_matrix\n",
        "from sklearn import model_selection\n",
        "from tensorflow.keras.utils import to_categorical\n",
        "from keras.models import Sequential\n",
        "from keras.layers import Dense\n",
        "from keras.optimizers import Adam\n",
        "from sklearn.metrics import classification_report"
      ]
    },
    {
      "cell_type": "markdown",
      "source": [
        "Data Collection and Processing"
      ],
      "metadata": {
        "id": "Q6Qhnrcnj95Z"
      }
    },
    {
      "cell_type": "code",
      "source": [
        "url = \"http://archive.ics.uci.edu/ml/machine-learning-databases/heart-disease/processed.cleveland.data\""
      ],
      "metadata": {
        "id": "hRFx9YpCvgX1"
      },
      "execution_count": 3,
      "outputs": []
    },
    {
      "cell_type": "code",
      "source": [
        "names = ['age',\n",
        "        'sex',\n",
        "        'cp',\n",
        "        'trestbps',\n",
        "        'chol',\n",
        "        'fbs',\n",
        "        'restecg',\n",
        "        'thalach',\n",
        "        'exang',\n",
        "        'oldpeak',\n",
        "        'slope',\n",
        "        'ca',\n",
        "        'thal',\n",
        "        'class']"
      ],
      "metadata": {
        "id": "XM4AemCWvhBU"
      },
      "execution_count": 4,
      "outputs": []
    },
    {
      "cell_type": "code",
      "source": [
        "# loading the csv data to a Pandas DataFrame\n",
        "heart_data=pd.read_csv(url, names=names)"
      ],
      "metadata": {
        "id": "yUpeNFmGkHPh"
      },
      "execution_count": 5,
      "outputs": []
    },
    {
      "cell_type": "code",
      "source": [
        "heart_data = heart_data[~heart_data.isin(['?'])]\n",
        "print(heart_data.loc[280:])"
      ],
      "metadata": {
        "colab": {
          "base_uri": "https://localhost:8080/"
        },
        "id": "qEwsQu9r2Z6l",
        "outputId": "899504f5-1f48-441e-89cf-58c92f7857cb"
      },
      "execution_count": 32,
      "outputs": [
        {
          "output_type": "stream",
          "name": "stdout",
          "text": [
            "      age  sex   cp  trestbps   chol  fbs  restecg  thalach  exang  oldpeak  \\\n",
            "280  57.0  1.0  4.0     110.0  335.0  0.0      0.0    143.0    1.0      3.0   \n",
            "281  47.0  1.0  3.0     130.0  253.0  0.0      0.0    179.0    0.0      0.0   \n",
            "282  55.0  0.0  4.0     128.0  205.0  0.0      1.0    130.0    1.0      2.0   \n",
            "283  35.0  1.0  2.0     122.0  192.0  0.0      0.0    174.0    0.0      0.0   \n",
            "284  61.0  1.0  4.0     148.0  203.0  0.0      0.0    161.0    0.0      0.0   \n",
            "285  58.0  1.0  4.0     114.0  318.0  0.0      1.0    140.0    0.0      4.4   \n",
            "286  58.0  0.0  4.0     170.0  225.0  1.0      2.0    146.0    1.0      2.8   \n",
            "287  58.0  1.0  2.0     125.0  220.0  0.0      0.0    144.0    0.0      0.4   \n",
            "288  56.0  1.0  2.0     130.0  221.0  0.0      2.0    163.0    0.0      0.0   \n",
            "289  56.0  1.0  2.0     120.0  240.0  0.0      0.0    169.0    0.0      0.0   \n",
            "290  67.0  1.0  3.0     152.0  212.0  0.0      2.0    150.0    0.0      0.8   \n",
            "291  55.0  0.0  2.0     132.0  342.0  0.0      0.0    166.0    0.0      1.2   \n",
            "292  44.0  1.0  4.0     120.0  169.0  0.0      0.0    144.0    1.0      2.8   \n",
            "293  63.0  1.0  4.0     140.0  187.0  0.0      2.0    144.0    1.0      4.0   \n",
            "294  63.0  0.0  4.0     124.0  197.0  0.0      0.0    136.0    1.0      0.0   \n",
            "295  41.0  1.0  2.0     120.0  157.0  0.0      0.0    182.0    0.0      0.0   \n",
            "296  59.0  1.0  4.0     164.0  176.0  1.0      2.0     90.0    0.0      1.0   \n",
            "297  57.0  0.0  4.0     140.0  241.0  0.0      0.0    123.0    1.0      0.2   \n",
            "298  45.0  1.0  1.0     110.0  264.0  0.0      0.0    132.0    0.0      1.2   \n",
            "299  68.0  1.0  4.0     144.0  193.0  1.0      0.0    141.0    0.0      3.4   \n",
            "300  57.0  1.0  4.0     130.0  131.0  0.0      0.0    115.0    1.0      1.2   \n",
            "301  57.0  0.0  2.0     130.0  236.0  0.0      2.0    174.0    0.0      0.0   \n",
            "302  38.0  1.0  3.0     138.0  175.0  0.0      0.0    173.0    0.0      0.0   \n",
            "\n",
            "     slope   ca thal  class  \n",
            "280    2.0  1.0  7.0      2  \n",
            "281    1.0  0.0  3.0      0  \n",
            "282    2.0  1.0  7.0      3  \n",
            "283    1.0  0.0  3.0      0  \n",
            "284    1.0  1.0  7.0      2  \n",
            "285    3.0  3.0  6.0      4  \n",
            "286    2.0  2.0  6.0      2  \n",
            "287    2.0  NaN  7.0      0  \n",
            "288    1.0  0.0  7.0      0  \n",
            "289    3.0  0.0  3.0      0  \n",
            "290    2.0  0.0  7.0      1  \n",
            "291    1.0  0.0  3.0      0  \n",
            "292    3.0  0.0  6.0      2  \n",
            "293    1.0  2.0  7.0      2  \n",
            "294    2.0  0.0  3.0      1  \n",
            "295    1.0  0.0  3.0      0  \n",
            "296    2.0  2.0  6.0      3  \n",
            "297    2.0  0.0  7.0      1  \n",
            "298    2.0  0.0  7.0      1  \n",
            "299    2.0  2.0  7.0      2  \n",
            "300    2.0  1.0  7.0      3  \n",
            "301    2.0  1.0  3.0      1  \n",
            "302    1.0  NaN  3.0      0  \n"
          ]
        }
      ]
    },
    {
      "cell_type": "code",
      "source": [
        "#print 5 rows\n",
        "heart_data.head()"
      ],
      "metadata": {
        "id": "cw1Jss6Bmy-K",
        "colab": {
          "base_uri": "https://localhost:8080/",
          "height": 206
        },
        "outputId": "789f1370-acc3-49c3-dd67-689a9f5a4408"
      },
      "execution_count": 33,
      "outputs": [
        {
          "output_type": "execute_result",
          "data": {
            "text/plain": [
              "    age  sex   cp  trestbps   chol  fbs  restecg  thalach  exang  oldpeak  \\\n",
              "0  63.0  1.0  1.0     145.0  233.0  1.0      2.0    150.0    0.0      2.3   \n",
              "1  67.0  1.0  4.0     160.0  286.0  0.0      2.0    108.0    1.0      1.5   \n",
              "2  67.0  1.0  4.0     120.0  229.0  0.0      2.0    129.0    1.0      2.6   \n",
              "3  37.0  1.0  3.0     130.0  250.0  0.0      0.0    187.0    0.0      3.5   \n",
              "4  41.0  0.0  2.0     130.0  204.0  0.0      2.0    172.0    0.0      1.4   \n",
              "\n",
              "   slope   ca thal  class  \n",
              "0    3.0  0.0  6.0      0  \n",
              "1    2.0  3.0  3.0      2  \n",
              "2    2.0  2.0  7.0      1  \n",
              "3    3.0  0.0  3.0      0  \n",
              "4    1.0  0.0  3.0      0  "
            ],
            "text/html": [
              "\n",
              "  <div id=\"df-eda80eb5-29a0-4d60-aa2b-4c975db8d49d\" class=\"colab-df-container\">\n",
              "    <div>\n",
              "<style scoped>\n",
              "    .dataframe tbody tr th:only-of-type {\n",
              "        vertical-align: middle;\n",
              "    }\n",
              "\n",
              "    .dataframe tbody tr th {\n",
              "        vertical-align: top;\n",
              "    }\n",
              "\n",
              "    .dataframe thead th {\n",
              "        text-align: right;\n",
              "    }\n",
              "</style>\n",
              "<table border=\"1\" class=\"dataframe\">\n",
              "  <thead>\n",
              "    <tr style=\"text-align: right;\">\n",
              "      <th></th>\n",
              "      <th>age</th>\n",
              "      <th>sex</th>\n",
              "      <th>cp</th>\n",
              "      <th>trestbps</th>\n",
              "      <th>chol</th>\n",
              "      <th>fbs</th>\n",
              "      <th>restecg</th>\n",
              "      <th>thalach</th>\n",
              "      <th>exang</th>\n",
              "      <th>oldpeak</th>\n",
              "      <th>slope</th>\n",
              "      <th>ca</th>\n",
              "      <th>thal</th>\n",
              "      <th>class</th>\n",
              "    </tr>\n",
              "  </thead>\n",
              "  <tbody>\n",
              "    <tr>\n",
              "      <th>0</th>\n",
              "      <td>63.0</td>\n",
              "      <td>1.0</td>\n",
              "      <td>1.0</td>\n",
              "      <td>145.0</td>\n",
              "      <td>233.0</td>\n",
              "      <td>1.0</td>\n",
              "      <td>2.0</td>\n",
              "      <td>150.0</td>\n",
              "      <td>0.0</td>\n",
              "      <td>2.3</td>\n",
              "      <td>3.0</td>\n",
              "      <td>0.0</td>\n",
              "      <td>6.0</td>\n",
              "      <td>0</td>\n",
              "    </tr>\n",
              "    <tr>\n",
              "      <th>1</th>\n",
              "      <td>67.0</td>\n",
              "      <td>1.0</td>\n",
              "      <td>4.0</td>\n",
              "      <td>160.0</td>\n",
              "      <td>286.0</td>\n",
              "      <td>0.0</td>\n",
              "      <td>2.0</td>\n",
              "      <td>108.0</td>\n",
              "      <td>1.0</td>\n",
              "      <td>1.5</td>\n",
              "      <td>2.0</td>\n",
              "      <td>3.0</td>\n",
              "      <td>3.0</td>\n",
              "      <td>2</td>\n",
              "    </tr>\n",
              "    <tr>\n",
              "      <th>2</th>\n",
              "      <td>67.0</td>\n",
              "      <td>1.0</td>\n",
              "      <td>4.0</td>\n",
              "      <td>120.0</td>\n",
              "      <td>229.0</td>\n",
              "      <td>0.0</td>\n",
              "      <td>2.0</td>\n",
              "      <td>129.0</td>\n",
              "      <td>1.0</td>\n",
              "      <td>2.6</td>\n",
              "      <td>2.0</td>\n",
              "      <td>2.0</td>\n",
              "      <td>7.0</td>\n",
              "      <td>1</td>\n",
              "    </tr>\n",
              "    <tr>\n",
              "      <th>3</th>\n",
              "      <td>37.0</td>\n",
              "      <td>1.0</td>\n",
              "      <td>3.0</td>\n",
              "      <td>130.0</td>\n",
              "      <td>250.0</td>\n",
              "      <td>0.0</td>\n",
              "      <td>0.0</td>\n",
              "      <td>187.0</td>\n",
              "      <td>0.0</td>\n",
              "      <td>3.5</td>\n",
              "      <td>3.0</td>\n",
              "      <td>0.0</td>\n",
              "      <td>3.0</td>\n",
              "      <td>0</td>\n",
              "    </tr>\n",
              "    <tr>\n",
              "      <th>4</th>\n",
              "      <td>41.0</td>\n",
              "      <td>0.0</td>\n",
              "      <td>2.0</td>\n",
              "      <td>130.0</td>\n",
              "      <td>204.0</td>\n",
              "      <td>0.0</td>\n",
              "      <td>2.0</td>\n",
              "      <td>172.0</td>\n",
              "      <td>0.0</td>\n",
              "      <td>1.4</td>\n",
              "      <td>1.0</td>\n",
              "      <td>0.0</td>\n",
              "      <td>3.0</td>\n",
              "      <td>0</td>\n",
              "    </tr>\n",
              "  </tbody>\n",
              "</table>\n",
              "</div>\n",
              "    <div class=\"colab-df-buttons\">\n",
              "\n",
              "  <div class=\"colab-df-container\">\n",
              "    <button class=\"colab-df-convert\" onclick=\"convertToInteractive('df-eda80eb5-29a0-4d60-aa2b-4c975db8d49d')\"\n",
              "            title=\"Convert this dataframe to an interactive table.\"\n",
              "            style=\"display:none;\">\n",
              "\n",
              "  <svg xmlns=\"http://www.w3.org/2000/svg\" height=\"24px\" viewBox=\"0 -960 960 960\">\n",
              "    <path d=\"M120-120v-720h720v720H120Zm60-500h600v-160H180v160Zm220 220h160v-160H400v160Zm0 220h160v-160H400v160ZM180-400h160v-160H180v160Zm440 0h160v-160H620v160ZM180-180h160v-160H180v160Zm440 0h160v-160H620v160Z\"/>\n",
              "  </svg>\n",
              "    </button>\n",
              "\n",
              "  <style>\n",
              "    .colab-df-container {\n",
              "      display:flex;\n",
              "      gap: 12px;\n",
              "    }\n",
              "\n",
              "    .colab-df-convert {\n",
              "      background-color: #E8F0FE;\n",
              "      border: none;\n",
              "      border-radius: 50%;\n",
              "      cursor: pointer;\n",
              "      display: none;\n",
              "      fill: #1967D2;\n",
              "      height: 32px;\n",
              "      padding: 0 0 0 0;\n",
              "      width: 32px;\n",
              "    }\n",
              "\n",
              "    .colab-df-convert:hover {\n",
              "      background-color: #E2EBFA;\n",
              "      box-shadow: 0px 1px 2px rgba(60, 64, 67, 0.3), 0px 1px 3px 1px rgba(60, 64, 67, 0.15);\n",
              "      fill: #174EA6;\n",
              "    }\n",
              "\n",
              "    .colab-df-buttons div {\n",
              "      margin-bottom: 4px;\n",
              "    }\n",
              "\n",
              "    [theme=dark] .colab-df-convert {\n",
              "      background-color: #3B4455;\n",
              "      fill: #D2E3FC;\n",
              "    }\n",
              "\n",
              "    [theme=dark] .colab-df-convert:hover {\n",
              "      background-color: #434B5C;\n",
              "      box-shadow: 0px 1px 3px 1px rgba(0, 0, 0, 0.15);\n",
              "      filter: drop-shadow(0px 1px 2px rgba(0, 0, 0, 0.3));\n",
              "      fill: #FFFFFF;\n",
              "    }\n",
              "  </style>\n",
              "\n",
              "    <script>\n",
              "      const buttonEl =\n",
              "        document.querySelector('#df-eda80eb5-29a0-4d60-aa2b-4c975db8d49d button.colab-df-convert');\n",
              "      buttonEl.style.display =\n",
              "        google.colab.kernel.accessAllowed ? 'block' : 'none';\n",
              "\n",
              "      async function convertToInteractive(key) {\n",
              "        const element = document.querySelector('#df-eda80eb5-29a0-4d60-aa2b-4c975db8d49d');\n",
              "        const dataTable =\n",
              "          await google.colab.kernel.invokeFunction('convertToInteractive',\n",
              "                                                    [key], {});\n",
              "        if (!dataTable) return;\n",
              "\n",
              "        const docLinkHtml = 'Like what you see? Visit the ' +\n",
              "          '<a target=\"_blank\" href=https://colab.research.google.com/notebooks/data_table.ipynb>data table notebook</a>'\n",
              "          + ' to learn more about interactive tables.';\n",
              "        element.innerHTML = '';\n",
              "        dataTable['output_type'] = 'display_data';\n",
              "        await google.colab.output.renderOutput(dataTable, element);\n",
              "        const docLink = document.createElement('div');\n",
              "        docLink.innerHTML = docLinkHtml;\n",
              "        element.appendChild(docLink);\n",
              "      }\n",
              "    </script>\n",
              "  </div>\n",
              "\n",
              "\n",
              "<div id=\"df-1f5a28ba-54d9-4e8b-98e7-4b69b1a2d347\">\n",
              "  <button class=\"colab-df-quickchart\" onclick=\"quickchart('df-1f5a28ba-54d9-4e8b-98e7-4b69b1a2d347')\"\n",
              "            title=\"Suggest charts.\"\n",
              "            style=\"display:none;\">\n",
              "\n",
              "<svg xmlns=\"http://www.w3.org/2000/svg\" height=\"24px\"viewBox=\"0 0 24 24\"\n",
              "     width=\"24px\">\n",
              "    <g>\n",
              "        <path d=\"M19 3H5c-1.1 0-2 .9-2 2v14c0 1.1.9 2 2 2h14c1.1 0 2-.9 2-2V5c0-1.1-.9-2-2-2zM9 17H7v-7h2v7zm4 0h-2V7h2v10zm4 0h-2v-4h2v4z\"/>\n",
              "    </g>\n",
              "</svg>\n",
              "  </button>\n",
              "\n",
              "<style>\n",
              "  .colab-df-quickchart {\n",
              "      --bg-color: #E8F0FE;\n",
              "      --fill-color: #1967D2;\n",
              "      --hover-bg-color: #E2EBFA;\n",
              "      --hover-fill-color: #174EA6;\n",
              "      --disabled-fill-color: #AAA;\n",
              "      --disabled-bg-color: #DDD;\n",
              "  }\n",
              "\n",
              "  [theme=dark] .colab-df-quickchart {\n",
              "      --bg-color: #3B4455;\n",
              "      --fill-color: #D2E3FC;\n",
              "      --hover-bg-color: #434B5C;\n",
              "      --hover-fill-color: #FFFFFF;\n",
              "      --disabled-bg-color: #3B4455;\n",
              "      --disabled-fill-color: #666;\n",
              "  }\n",
              "\n",
              "  .colab-df-quickchart {\n",
              "    background-color: var(--bg-color);\n",
              "    border: none;\n",
              "    border-radius: 50%;\n",
              "    cursor: pointer;\n",
              "    display: none;\n",
              "    fill: var(--fill-color);\n",
              "    height: 32px;\n",
              "    padding: 0;\n",
              "    width: 32px;\n",
              "  }\n",
              "\n",
              "  .colab-df-quickchart:hover {\n",
              "    background-color: var(--hover-bg-color);\n",
              "    box-shadow: 0 1px 2px rgba(60, 64, 67, 0.3), 0 1px 3px 1px rgba(60, 64, 67, 0.15);\n",
              "    fill: var(--button-hover-fill-color);\n",
              "  }\n",
              "\n",
              "  .colab-df-quickchart-complete:disabled,\n",
              "  .colab-df-quickchart-complete:disabled:hover {\n",
              "    background-color: var(--disabled-bg-color);\n",
              "    fill: var(--disabled-fill-color);\n",
              "    box-shadow: none;\n",
              "  }\n",
              "\n",
              "  .colab-df-spinner {\n",
              "    border: 2px solid var(--fill-color);\n",
              "    border-color: transparent;\n",
              "    border-bottom-color: var(--fill-color);\n",
              "    animation:\n",
              "      spin 1s steps(1) infinite;\n",
              "  }\n",
              "\n",
              "  @keyframes spin {\n",
              "    0% {\n",
              "      border-color: transparent;\n",
              "      border-bottom-color: var(--fill-color);\n",
              "      border-left-color: var(--fill-color);\n",
              "    }\n",
              "    20% {\n",
              "      border-color: transparent;\n",
              "      border-left-color: var(--fill-color);\n",
              "      border-top-color: var(--fill-color);\n",
              "    }\n",
              "    30% {\n",
              "      border-color: transparent;\n",
              "      border-left-color: var(--fill-color);\n",
              "      border-top-color: var(--fill-color);\n",
              "      border-right-color: var(--fill-color);\n",
              "    }\n",
              "    40% {\n",
              "      border-color: transparent;\n",
              "      border-right-color: var(--fill-color);\n",
              "      border-top-color: var(--fill-color);\n",
              "    }\n",
              "    60% {\n",
              "      border-color: transparent;\n",
              "      border-right-color: var(--fill-color);\n",
              "    }\n",
              "    80% {\n",
              "      border-color: transparent;\n",
              "      border-right-color: var(--fill-color);\n",
              "      border-bottom-color: var(--fill-color);\n",
              "    }\n",
              "    90% {\n",
              "      border-color: transparent;\n",
              "      border-bottom-color: var(--fill-color);\n",
              "    }\n",
              "  }\n",
              "</style>\n",
              "\n",
              "  <script>\n",
              "    async function quickchart(key) {\n",
              "      const quickchartButtonEl =\n",
              "        document.querySelector('#' + key + ' button');\n",
              "      quickchartButtonEl.disabled = true;  // To prevent multiple clicks.\n",
              "      quickchartButtonEl.classList.add('colab-df-spinner');\n",
              "      try {\n",
              "        const charts = await google.colab.kernel.invokeFunction(\n",
              "            'suggestCharts', [key], {});\n",
              "      } catch (error) {\n",
              "        console.error('Error during call to suggestCharts:', error);\n",
              "      }\n",
              "      quickchartButtonEl.classList.remove('colab-df-spinner');\n",
              "      quickchartButtonEl.classList.add('colab-df-quickchart-complete');\n",
              "    }\n",
              "    (() => {\n",
              "      let quickchartButtonEl =\n",
              "        document.querySelector('#df-1f5a28ba-54d9-4e8b-98e7-4b69b1a2d347 button');\n",
              "      quickchartButtonEl.style.display =\n",
              "        google.colab.kernel.accessAllowed ? 'block' : 'none';\n",
              "    })();\n",
              "  </script>\n",
              "</div>\n",
              "    </div>\n",
              "  </div>\n"
            ]
          },
          "metadata": {},
          "execution_count": 33
        }
      ]
    },
    {
      "cell_type": "code",
      "source": [
        "heart_data = heart_data.dropna(axis=0)\n",
        "print(heart_data.loc[280:])"
      ],
      "metadata": {
        "colab": {
          "base_uri": "https://localhost:8080/"
        },
        "id": "HvKAPMSK1xB6",
        "outputId": "10fcdcf8-e291-40b5-b770-509539f23e23"
      },
      "execution_count": 34,
      "outputs": [
        {
          "output_type": "stream",
          "name": "stdout",
          "text": [
            "      age  sex   cp  trestbps   chol  fbs  restecg  thalach  exang  oldpeak  \\\n",
            "280  57.0  1.0  4.0     110.0  335.0  0.0      0.0    143.0    1.0      3.0   \n",
            "281  47.0  1.0  3.0     130.0  253.0  0.0      0.0    179.0    0.0      0.0   \n",
            "282  55.0  0.0  4.0     128.0  205.0  0.0      1.0    130.0    1.0      2.0   \n",
            "283  35.0  1.0  2.0     122.0  192.0  0.0      0.0    174.0    0.0      0.0   \n",
            "284  61.0  1.0  4.0     148.0  203.0  0.0      0.0    161.0    0.0      0.0   \n",
            "285  58.0  1.0  4.0     114.0  318.0  0.0      1.0    140.0    0.0      4.4   \n",
            "286  58.0  0.0  4.0     170.0  225.0  1.0      2.0    146.0    1.0      2.8   \n",
            "288  56.0  1.0  2.0     130.0  221.0  0.0      2.0    163.0    0.0      0.0   \n",
            "289  56.0  1.0  2.0     120.0  240.0  0.0      0.0    169.0    0.0      0.0   \n",
            "290  67.0  1.0  3.0     152.0  212.0  0.0      2.0    150.0    0.0      0.8   \n",
            "291  55.0  0.0  2.0     132.0  342.0  0.0      0.0    166.0    0.0      1.2   \n",
            "292  44.0  1.0  4.0     120.0  169.0  0.0      0.0    144.0    1.0      2.8   \n",
            "293  63.0  1.0  4.0     140.0  187.0  0.0      2.0    144.0    1.0      4.0   \n",
            "294  63.0  0.0  4.0     124.0  197.0  0.0      0.0    136.0    1.0      0.0   \n",
            "295  41.0  1.0  2.0     120.0  157.0  0.0      0.0    182.0    0.0      0.0   \n",
            "296  59.0  1.0  4.0     164.0  176.0  1.0      2.0     90.0    0.0      1.0   \n",
            "297  57.0  0.0  4.0     140.0  241.0  0.0      0.0    123.0    1.0      0.2   \n",
            "298  45.0  1.0  1.0     110.0  264.0  0.0      0.0    132.0    0.0      1.2   \n",
            "299  68.0  1.0  4.0     144.0  193.0  1.0      0.0    141.0    0.0      3.4   \n",
            "300  57.0  1.0  4.0     130.0  131.0  0.0      0.0    115.0    1.0      1.2   \n",
            "301  57.0  0.0  2.0     130.0  236.0  0.0      2.0    174.0    0.0      0.0   \n",
            "\n",
            "     slope   ca thal  class  \n",
            "280    2.0  1.0  7.0      2  \n",
            "281    1.0  0.0  3.0      0  \n",
            "282    2.0  1.0  7.0      3  \n",
            "283    1.0  0.0  3.0      0  \n",
            "284    1.0  1.0  7.0      2  \n",
            "285    3.0  3.0  6.0      4  \n",
            "286    2.0  2.0  6.0      2  \n",
            "288    1.0  0.0  7.0      0  \n",
            "289    3.0  0.0  3.0      0  \n",
            "290    2.0  0.0  7.0      1  \n",
            "291    1.0  0.0  3.0      0  \n",
            "292    3.0  0.0  6.0      2  \n",
            "293    1.0  2.0  7.0      2  \n",
            "294    2.0  0.0  3.0      1  \n",
            "295    1.0  0.0  3.0      0  \n",
            "296    2.0  2.0  6.0      3  \n",
            "297    2.0  0.0  7.0      1  \n",
            "298    2.0  0.0  7.0      1  \n",
            "299    2.0  2.0  7.0      2  \n",
            "300    2.0  1.0  7.0      3  \n",
            "301    2.0  1.0  3.0      1  \n"
          ]
        }
      ]
    },
    {
      "cell_type": "code",
      "source": [
        "#number of rows and columns in dataset\n",
        "heart_data.shape"
      ],
      "metadata": {
        "id": "Fl_2cQwBo0JJ",
        "colab": {
          "base_uri": "https://localhost:8080/"
        },
        "outputId": "7277ef1d-1d43-40c7-e833-481f7bd3bd37"
      },
      "execution_count": 35,
      "outputs": [
        {
          "output_type": "execute_result",
          "data": {
            "text/plain": [
              "(297, 14)"
            ]
          },
          "metadata": {},
          "execution_count": 35
        }
      ]
    },
    {
      "cell_type": "code",
      "source": [
        "#getting some info about the data\n",
        "heart_data.info()"
      ],
      "metadata": {
        "id": "NbFJHWY0qagq",
        "colab": {
          "base_uri": "https://localhost:8080/"
        },
        "outputId": "13b2e24e-e8cf-4e10-ebb7-2e880eae9ed9"
      },
      "execution_count": 36,
      "outputs": [
        {
          "output_type": "stream",
          "name": "stdout",
          "text": [
            "<class 'pandas.core.frame.DataFrame'>\n",
            "Int64Index: 297 entries, 0 to 301\n",
            "Data columns (total 14 columns):\n",
            " #   Column    Non-Null Count  Dtype  \n",
            "---  ------    --------------  -----  \n",
            " 0   age       297 non-null    float64\n",
            " 1   sex       297 non-null    float64\n",
            " 2   cp        297 non-null    float64\n",
            " 3   trestbps  297 non-null    float64\n",
            " 4   chol      297 non-null    float64\n",
            " 5   fbs       297 non-null    float64\n",
            " 6   restecg   297 non-null    float64\n",
            " 7   thalach   297 non-null    float64\n",
            " 8   exang     297 non-null    float64\n",
            " 9   oldpeak   297 non-null    float64\n",
            " 10  slope     297 non-null    float64\n",
            " 11  ca        297 non-null    object \n",
            " 12  thal      297 non-null    object \n",
            " 13  class     297 non-null    int64  \n",
            "dtypes: float64(11), int64(1), object(2)\n",
            "memory usage: 42.9+ KB\n"
          ]
        }
      ]
    },
    {
      "cell_type": "code",
      "source": [
        "#checking for missing values\n",
        "heart_data.isnull().sum()"
      ],
      "metadata": {
        "id": "vZPRGigMrfma",
        "colab": {
          "base_uri": "https://localhost:8080/"
        },
        "outputId": "b8380f7b-f51e-469f-f3d3-0b67e195d62a"
      },
      "execution_count": 37,
      "outputs": [
        {
          "output_type": "execute_result",
          "data": {
            "text/plain": [
              "age         0\n",
              "sex         0\n",
              "cp          0\n",
              "trestbps    0\n",
              "chol        0\n",
              "fbs         0\n",
              "restecg     0\n",
              "thalach     0\n",
              "exang       0\n",
              "oldpeak     0\n",
              "slope       0\n",
              "ca          0\n",
              "thal        0\n",
              "class       0\n",
              "dtype: int64"
            ]
          },
          "metadata": {},
          "execution_count": 37
        }
      ]
    },
    {
      "cell_type": "code",
      "source": [
        "heart_data = heart_data.apply(pd.to_numeric)\n",
        "print(heart_data.dtypes)"
      ],
      "metadata": {
        "colab": {
          "base_uri": "https://localhost:8080/"
        },
        "id": "QqI0S_VY2E7-",
        "outputId": "4562e21d-f489-4d82-bc3e-1eb3d920c39d"
      },
      "execution_count": 38,
      "outputs": [
        {
          "output_type": "stream",
          "name": "stdout",
          "text": [
            "age         float64\n",
            "sex         float64\n",
            "cp          float64\n",
            "trestbps    float64\n",
            "chol        float64\n",
            "fbs         float64\n",
            "restecg     float64\n",
            "thalach     float64\n",
            "exang       float64\n",
            "oldpeak     float64\n",
            "slope       float64\n",
            "ca          float64\n",
            "thal        float64\n",
            "class         int64\n",
            "dtype: object\n"
          ]
        }
      ]
    },
    {
      "cell_type": "code",
      "source": [
        "#stastical methods about data\n",
        "heart_data.describe()"
      ],
      "metadata": {
        "id": "vtOQOR0zr0kE",
        "colab": {
          "base_uri": "https://localhost:8080/",
          "height": 300
        },
        "outputId": "0e1e9ed6-cc7e-4149-959e-900cd9374ea7"
      },
      "execution_count": 39,
      "outputs": [
        {
          "output_type": "execute_result",
          "data": {
            "text/plain": [
              "              age         sex          cp    trestbps        chol         fbs  \\\n",
              "count  297.000000  297.000000  297.000000  297.000000  297.000000  297.000000   \n",
              "mean    54.542088    0.676768    3.158249  131.693603  247.350168    0.144781   \n",
              "std      9.049736    0.468500    0.964859   17.762806   51.997583    0.352474   \n",
              "min     29.000000    0.000000    1.000000   94.000000  126.000000    0.000000   \n",
              "25%     48.000000    0.000000    3.000000  120.000000  211.000000    0.000000   \n",
              "50%     56.000000    1.000000    3.000000  130.000000  243.000000    0.000000   \n",
              "75%     61.000000    1.000000    4.000000  140.000000  276.000000    0.000000   \n",
              "max     77.000000    1.000000    4.000000  200.000000  564.000000    1.000000   \n",
              "\n",
              "          restecg     thalach       exang     oldpeak       slope          ca  \\\n",
              "count  297.000000  297.000000  297.000000  297.000000  297.000000  297.000000   \n",
              "mean     0.996633  149.599327    0.326599    1.055556    1.602694    0.676768   \n",
              "std      0.994914   22.941562    0.469761    1.166123    0.618187    0.938965   \n",
              "min      0.000000   71.000000    0.000000    0.000000    1.000000    0.000000   \n",
              "25%      0.000000  133.000000    0.000000    0.000000    1.000000    0.000000   \n",
              "50%      1.000000  153.000000    0.000000    0.800000    2.000000    0.000000   \n",
              "75%      2.000000  166.000000    1.000000    1.600000    2.000000    1.000000   \n",
              "max      2.000000  202.000000    1.000000    6.200000    3.000000    3.000000   \n",
              "\n",
              "             thal       class  \n",
              "count  297.000000  297.000000  \n",
              "mean     4.730640    0.946128  \n",
              "std      1.938629    1.234551  \n",
              "min      3.000000    0.000000  \n",
              "25%      3.000000    0.000000  \n",
              "50%      3.000000    0.000000  \n",
              "75%      7.000000    2.000000  \n",
              "max      7.000000    4.000000  "
            ],
            "text/html": [
              "\n",
              "  <div id=\"df-896c01c1-31e0-4720-9f55-5e4c60928b76\" class=\"colab-df-container\">\n",
              "    <div>\n",
              "<style scoped>\n",
              "    .dataframe tbody tr th:only-of-type {\n",
              "        vertical-align: middle;\n",
              "    }\n",
              "\n",
              "    .dataframe tbody tr th {\n",
              "        vertical-align: top;\n",
              "    }\n",
              "\n",
              "    .dataframe thead th {\n",
              "        text-align: right;\n",
              "    }\n",
              "</style>\n",
              "<table border=\"1\" class=\"dataframe\">\n",
              "  <thead>\n",
              "    <tr style=\"text-align: right;\">\n",
              "      <th></th>\n",
              "      <th>age</th>\n",
              "      <th>sex</th>\n",
              "      <th>cp</th>\n",
              "      <th>trestbps</th>\n",
              "      <th>chol</th>\n",
              "      <th>fbs</th>\n",
              "      <th>restecg</th>\n",
              "      <th>thalach</th>\n",
              "      <th>exang</th>\n",
              "      <th>oldpeak</th>\n",
              "      <th>slope</th>\n",
              "      <th>ca</th>\n",
              "      <th>thal</th>\n",
              "      <th>class</th>\n",
              "    </tr>\n",
              "  </thead>\n",
              "  <tbody>\n",
              "    <tr>\n",
              "      <th>count</th>\n",
              "      <td>297.000000</td>\n",
              "      <td>297.000000</td>\n",
              "      <td>297.000000</td>\n",
              "      <td>297.000000</td>\n",
              "      <td>297.000000</td>\n",
              "      <td>297.000000</td>\n",
              "      <td>297.000000</td>\n",
              "      <td>297.000000</td>\n",
              "      <td>297.000000</td>\n",
              "      <td>297.000000</td>\n",
              "      <td>297.000000</td>\n",
              "      <td>297.000000</td>\n",
              "      <td>297.000000</td>\n",
              "      <td>297.000000</td>\n",
              "    </tr>\n",
              "    <tr>\n",
              "      <th>mean</th>\n",
              "      <td>54.542088</td>\n",
              "      <td>0.676768</td>\n",
              "      <td>3.158249</td>\n",
              "      <td>131.693603</td>\n",
              "      <td>247.350168</td>\n",
              "      <td>0.144781</td>\n",
              "      <td>0.996633</td>\n",
              "      <td>149.599327</td>\n",
              "      <td>0.326599</td>\n",
              "      <td>1.055556</td>\n",
              "      <td>1.602694</td>\n",
              "      <td>0.676768</td>\n",
              "      <td>4.730640</td>\n",
              "      <td>0.946128</td>\n",
              "    </tr>\n",
              "    <tr>\n",
              "      <th>std</th>\n",
              "      <td>9.049736</td>\n",
              "      <td>0.468500</td>\n",
              "      <td>0.964859</td>\n",
              "      <td>17.762806</td>\n",
              "      <td>51.997583</td>\n",
              "      <td>0.352474</td>\n",
              "      <td>0.994914</td>\n",
              "      <td>22.941562</td>\n",
              "      <td>0.469761</td>\n",
              "      <td>1.166123</td>\n",
              "      <td>0.618187</td>\n",
              "      <td>0.938965</td>\n",
              "      <td>1.938629</td>\n",
              "      <td>1.234551</td>\n",
              "    </tr>\n",
              "    <tr>\n",
              "      <th>min</th>\n",
              "      <td>29.000000</td>\n",
              "      <td>0.000000</td>\n",
              "      <td>1.000000</td>\n",
              "      <td>94.000000</td>\n",
              "      <td>126.000000</td>\n",
              "      <td>0.000000</td>\n",
              "      <td>0.000000</td>\n",
              "      <td>71.000000</td>\n",
              "      <td>0.000000</td>\n",
              "      <td>0.000000</td>\n",
              "      <td>1.000000</td>\n",
              "      <td>0.000000</td>\n",
              "      <td>3.000000</td>\n",
              "      <td>0.000000</td>\n",
              "    </tr>\n",
              "    <tr>\n",
              "      <th>25%</th>\n",
              "      <td>48.000000</td>\n",
              "      <td>0.000000</td>\n",
              "      <td>3.000000</td>\n",
              "      <td>120.000000</td>\n",
              "      <td>211.000000</td>\n",
              "      <td>0.000000</td>\n",
              "      <td>0.000000</td>\n",
              "      <td>133.000000</td>\n",
              "      <td>0.000000</td>\n",
              "      <td>0.000000</td>\n",
              "      <td>1.000000</td>\n",
              "      <td>0.000000</td>\n",
              "      <td>3.000000</td>\n",
              "      <td>0.000000</td>\n",
              "    </tr>\n",
              "    <tr>\n",
              "      <th>50%</th>\n",
              "      <td>56.000000</td>\n",
              "      <td>1.000000</td>\n",
              "      <td>3.000000</td>\n",
              "      <td>130.000000</td>\n",
              "      <td>243.000000</td>\n",
              "      <td>0.000000</td>\n",
              "      <td>1.000000</td>\n",
              "      <td>153.000000</td>\n",
              "      <td>0.000000</td>\n",
              "      <td>0.800000</td>\n",
              "      <td>2.000000</td>\n",
              "      <td>0.000000</td>\n",
              "      <td>3.000000</td>\n",
              "      <td>0.000000</td>\n",
              "    </tr>\n",
              "    <tr>\n",
              "      <th>75%</th>\n",
              "      <td>61.000000</td>\n",
              "      <td>1.000000</td>\n",
              "      <td>4.000000</td>\n",
              "      <td>140.000000</td>\n",
              "      <td>276.000000</td>\n",
              "      <td>0.000000</td>\n",
              "      <td>2.000000</td>\n",
              "      <td>166.000000</td>\n",
              "      <td>1.000000</td>\n",
              "      <td>1.600000</td>\n",
              "      <td>2.000000</td>\n",
              "      <td>1.000000</td>\n",
              "      <td>7.000000</td>\n",
              "      <td>2.000000</td>\n",
              "    </tr>\n",
              "    <tr>\n",
              "      <th>max</th>\n",
              "      <td>77.000000</td>\n",
              "      <td>1.000000</td>\n",
              "      <td>4.000000</td>\n",
              "      <td>200.000000</td>\n",
              "      <td>564.000000</td>\n",
              "      <td>1.000000</td>\n",
              "      <td>2.000000</td>\n",
              "      <td>202.000000</td>\n",
              "      <td>1.000000</td>\n",
              "      <td>6.200000</td>\n",
              "      <td>3.000000</td>\n",
              "      <td>3.000000</td>\n",
              "      <td>7.000000</td>\n",
              "      <td>4.000000</td>\n",
              "    </tr>\n",
              "  </tbody>\n",
              "</table>\n",
              "</div>\n",
              "    <div class=\"colab-df-buttons\">\n",
              "\n",
              "  <div class=\"colab-df-container\">\n",
              "    <button class=\"colab-df-convert\" onclick=\"convertToInteractive('df-896c01c1-31e0-4720-9f55-5e4c60928b76')\"\n",
              "            title=\"Convert this dataframe to an interactive table.\"\n",
              "            style=\"display:none;\">\n",
              "\n",
              "  <svg xmlns=\"http://www.w3.org/2000/svg\" height=\"24px\" viewBox=\"0 -960 960 960\">\n",
              "    <path d=\"M120-120v-720h720v720H120Zm60-500h600v-160H180v160Zm220 220h160v-160H400v160Zm0 220h160v-160H400v160ZM180-400h160v-160H180v160Zm440 0h160v-160H620v160ZM180-180h160v-160H180v160Zm440 0h160v-160H620v160Z\"/>\n",
              "  </svg>\n",
              "    </button>\n",
              "\n",
              "  <style>\n",
              "    .colab-df-container {\n",
              "      display:flex;\n",
              "      gap: 12px;\n",
              "    }\n",
              "\n",
              "    .colab-df-convert {\n",
              "      background-color: #E8F0FE;\n",
              "      border: none;\n",
              "      border-radius: 50%;\n",
              "      cursor: pointer;\n",
              "      display: none;\n",
              "      fill: #1967D2;\n",
              "      height: 32px;\n",
              "      padding: 0 0 0 0;\n",
              "      width: 32px;\n",
              "    }\n",
              "\n",
              "    .colab-df-convert:hover {\n",
              "      background-color: #E2EBFA;\n",
              "      box-shadow: 0px 1px 2px rgba(60, 64, 67, 0.3), 0px 1px 3px 1px rgba(60, 64, 67, 0.15);\n",
              "      fill: #174EA6;\n",
              "    }\n",
              "\n",
              "    .colab-df-buttons div {\n",
              "      margin-bottom: 4px;\n",
              "    }\n",
              "\n",
              "    [theme=dark] .colab-df-convert {\n",
              "      background-color: #3B4455;\n",
              "      fill: #D2E3FC;\n",
              "    }\n",
              "\n",
              "    [theme=dark] .colab-df-convert:hover {\n",
              "      background-color: #434B5C;\n",
              "      box-shadow: 0px 1px 3px 1px rgba(0, 0, 0, 0.15);\n",
              "      filter: drop-shadow(0px 1px 2px rgba(0, 0, 0, 0.3));\n",
              "      fill: #FFFFFF;\n",
              "    }\n",
              "  </style>\n",
              "\n",
              "    <script>\n",
              "      const buttonEl =\n",
              "        document.querySelector('#df-896c01c1-31e0-4720-9f55-5e4c60928b76 button.colab-df-convert');\n",
              "      buttonEl.style.display =\n",
              "        google.colab.kernel.accessAllowed ? 'block' : 'none';\n",
              "\n",
              "      async function convertToInteractive(key) {\n",
              "        const element = document.querySelector('#df-896c01c1-31e0-4720-9f55-5e4c60928b76');\n",
              "        const dataTable =\n",
              "          await google.colab.kernel.invokeFunction('convertToInteractive',\n",
              "                                                    [key], {});\n",
              "        if (!dataTable) return;\n",
              "\n",
              "        const docLinkHtml = 'Like what you see? Visit the ' +\n",
              "          '<a target=\"_blank\" href=https://colab.research.google.com/notebooks/data_table.ipynb>data table notebook</a>'\n",
              "          + ' to learn more about interactive tables.';\n",
              "        element.innerHTML = '';\n",
              "        dataTable['output_type'] = 'display_data';\n",
              "        await google.colab.output.renderOutput(dataTable, element);\n",
              "        const docLink = document.createElement('div');\n",
              "        docLink.innerHTML = docLinkHtml;\n",
              "        element.appendChild(docLink);\n",
              "      }\n",
              "    </script>\n",
              "  </div>\n",
              "\n",
              "\n",
              "<div id=\"df-c307ab7f-a15b-4ba6-af7c-875237f8dfc9\">\n",
              "  <button class=\"colab-df-quickchart\" onclick=\"quickchart('df-c307ab7f-a15b-4ba6-af7c-875237f8dfc9')\"\n",
              "            title=\"Suggest charts.\"\n",
              "            style=\"display:none;\">\n",
              "\n",
              "<svg xmlns=\"http://www.w3.org/2000/svg\" height=\"24px\"viewBox=\"0 0 24 24\"\n",
              "     width=\"24px\">\n",
              "    <g>\n",
              "        <path d=\"M19 3H5c-1.1 0-2 .9-2 2v14c0 1.1.9 2 2 2h14c1.1 0 2-.9 2-2V5c0-1.1-.9-2-2-2zM9 17H7v-7h2v7zm4 0h-2V7h2v10zm4 0h-2v-4h2v4z\"/>\n",
              "    </g>\n",
              "</svg>\n",
              "  </button>\n",
              "\n",
              "<style>\n",
              "  .colab-df-quickchart {\n",
              "      --bg-color: #E8F0FE;\n",
              "      --fill-color: #1967D2;\n",
              "      --hover-bg-color: #E2EBFA;\n",
              "      --hover-fill-color: #174EA6;\n",
              "      --disabled-fill-color: #AAA;\n",
              "      --disabled-bg-color: #DDD;\n",
              "  }\n",
              "\n",
              "  [theme=dark] .colab-df-quickchart {\n",
              "      --bg-color: #3B4455;\n",
              "      --fill-color: #D2E3FC;\n",
              "      --hover-bg-color: #434B5C;\n",
              "      --hover-fill-color: #FFFFFF;\n",
              "      --disabled-bg-color: #3B4455;\n",
              "      --disabled-fill-color: #666;\n",
              "  }\n",
              "\n",
              "  .colab-df-quickchart {\n",
              "    background-color: var(--bg-color);\n",
              "    border: none;\n",
              "    border-radius: 50%;\n",
              "    cursor: pointer;\n",
              "    display: none;\n",
              "    fill: var(--fill-color);\n",
              "    height: 32px;\n",
              "    padding: 0;\n",
              "    width: 32px;\n",
              "  }\n",
              "\n",
              "  .colab-df-quickchart:hover {\n",
              "    background-color: var(--hover-bg-color);\n",
              "    box-shadow: 0 1px 2px rgba(60, 64, 67, 0.3), 0 1px 3px 1px rgba(60, 64, 67, 0.15);\n",
              "    fill: var(--button-hover-fill-color);\n",
              "  }\n",
              "\n",
              "  .colab-df-quickchart-complete:disabled,\n",
              "  .colab-df-quickchart-complete:disabled:hover {\n",
              "    background-color: var(--disabled-bg-color);\n",
              "    fill: var(--disabled-fill-color);\n",
              "    box-shadow: none;\n",
              "  }\n",
              "\n",
              "  .colab-df-spinner {\n",
              "    border: 2px solid var(--fill-color);\n",
              "    border-color: transparent;\n",
              "    border-bottom-color: var(--fill-color);\n",
              "    animation:\n",
              "      spin 1s steps(1) infinite;\n",
              "  }\n",
              "\n",
              "  @keyframes spin {\n",
              "    0% {\n",
              "      border-color: transparent;\n",
              "      border-bottom-color: var(--fill-color);\n",
              "      border-left-color: var(--fill-color);\n",
              "    }\n",
              "    20% {\n",
              "      border-color: transparent;\n",
              "      border-left-color: var(--fill-color);\n",
              "      border-top-color: var(--fill-color);\n",
              "    }\n",
              "    30% {\n",
              "      border-color: transparent;\n",
              "      border-left-color: var(--fill-color);\n",
              "      border-top-color: var(--fill-color);\n",
              "      border-right-color: var(--fill-color);\n",
              "    }\n",
              "    40% {\n",
              "      border-color: transparent;\n",
              "      border-right-color: var(--fill-color);\n",
              "      border-top-color: var(--fill-color);\n",
              "    }\n",
              "    60% {\n",
              "      border-color: transparent;\n",
              "      border-right-color: var(--fill-color);\n",
              "    }\n",
              "    80% {\n",
              "      border-color: transparent;\n",
              "      border-right-color: var(--fill-color);\n",
              "      border-bottom-color: var(--fill-color);\n",
              "    }\n",
              "    90% {\n",
              "      border-color: transparent;\n",
              "      border-bottom-color: var(--fill-color);\n",
              "    }\n",
              "  }\n",
              "</style>\n",
              "\n",
              "  <script>\n",
              "    async function quickchart(key) {\n",
              "      const quickchartButtonEl =\n",
              "        document.querySelector('#' + key + ' button');\n",
              "      quickchartButtonEl.disabled = true;  // To prevent multiple clicks.\n",
              "      quickchartButtonEl.classList.add('colab-df-spinner');\n",
              "      try {\n",
              "        const charts = await google.colab.kernel.invokeFunction(\n",
              "            'suggestCharts', [key], {});\n",
              "      } catch (error) {\n",
              "        console.error('Error during call to suggestCharts:', error);\n",
              "      }\n",
              "      quickchartButtonEl.classList.remove('colab-df-spinner');\n",
              "      quickchartButtonEl.classList.add('colab-df-quickchart-complete');\n",
              "    }\n",
              "    (() => {\n",
              "      let quickchartButtonEl =\n",
              "        document.querySelector('#df-c307ab7f-a15b-4ba6-af7c-875237f8dfc9 button');\n",
              "      quickchartButtonEl.style.display =\n",
              "        google.colab.kernel.accessAllowed ? 'block' : 'none';\n",
              "    })();\n",
              "  </script>\n",
              "</div>\n",
              "    </div>\n",
              "  </div>\n"
            ]
          },
          "metadata": {},
          "execution_count": 39
        }
      ]
    },
    {
      "cell_type": "code",
      "source": [
        "# checking the distribution of target variable\n",
        "heart_data[\"class\"].value_counts()"
      ],
      "metadata": {
        "id": "PJbGYW2vrvAi",
        "colab": {
          "base_uri": "https://localhost:8080/"
        },
        "outputId": "378d9d2e-da6a-4c99-8607-3d751ebf1ec5"
      },
      "execution_count": 40,
      "outputs": [
        {
          "output_type": "execute_result",
          "data": {
            "text/plain": [
              "0    160\n",
              "1     54\n",
              "2     35\n",
              "3     35\n",
              "4     13\n",
              "Name: class, dtype: int64"
            ]
          },
          "metadata": {},
          "execution_count": 40
        }
      ]
    },
    {
      "cell_type": "markdown",
      "source": [
        "Spliting the Features And Target"
      ],
      "metadata": {
        "id": "4136Z0mk-QdM"
      }
    },
    {
      "cell_type": "code",
      "source": [
        "X=heart_data.drop(columns=\"class\",axis=1)\n",
        "y=heart_data[\"class\"]"
      ],
      "metadata": {
        "id": "wUyNPIurrwZ6"
      },
      "execution_count": 41,
      "outputs": []
    },
    {
      "cell_type": "code",
      "source": [
        "print(X)"
      ],
      "metadata": {
        "id": "PVkJcSX_-wkM",
        "outputId": "c800cad1-6a51-422d-96bd-3d05232ff3ba",
        "colab": {
          "base_uri": "https://localhost:8080/"
        }
      },
      "execution_count": 42,
      "outputs": [
        {
          "output_type": "stream",
          "name": "stdout",
          "text": [
            "      age  sex   cp  trestbps   chol  fbs  restecg  thalach  exang  oldpeak  \\\n",
            "0    63.0  1.0  1.0     145.0  233.0  1.0      2.0    150.0    0.0      2.3   \n",
            "1    67.0  1.0  4.0     160.0  286.0  0.0      2.0    108.0    1.0      1.5   \n",
            "2    67.0  1.0  4.0     120.0  229.0  0.0      2.0    129.0    1.0      2.6   \n",
            "3    37.0  1.0  3.0     130.0  250.0  0.0      0.0    187.0    0.0      3.5   \n",
            "4    41.0  0.0  2.0     130.0  204.0  0.0      2.0    172.0    0.0      1.4   \n",
            "..    ...  ...  ...       ...    ...  ...      ...      ...    ...      ...   \n",
            "297  57.0  0.0  4.0     140.0  241.0  0.0      0.0    123.0    1.0      0.2   \n",
            "298  45.0  1.0  1.0     110.0  264.0  0.0      0.0    132.0    0.0      1.2   \n",
            "299  68.0  1.0  4.0     144.0  193.0  1.0      0.0    141.0    0.0      3.4   \n",
            "300  57.0  1.0  4.0     130.0  131.0  0.0      0.0    115.0    1.0      1.2   \n",
            "301  57.0  0.0  2.0     130.0  236.0  0.0      2.0    174.0    0.0      0.0   \n",
            "\n",
            "     slope   ca  thal  \n",
            "0      3.0  0.0   6.0  \n",
            "1      2.0  3.0   3.0  \n",
            "2      2.0  2.0   7.0  \n",
            "3      3.0  0.0   3.0  \n",
            "4      1.0  0.0   3.0  \n",
            "..     ...  ...   ...  \n",
            "297    2.0  0.0   7.0  \n",
            "298    2.0  0.0   7.0  \n",
            "299    2.0  2.0   7.0  \n",
            "300    2.0  1.0   7.0  \n",
            "301    2.0  1.0   3.0  \n",
            "\n",
            "[297 rows x 13 columns]\n"
          ]
        }
      ]
    },
    {
      "cell_type": "code",
      "source": [
        "print(y)"
      ],
      "metadata": {
        "id": "7SXoAjYU_o9Z",
        "colab": {
          "base_uri": "https://localhost:8080/"
        },
        "outputId": "c8cc9fdd-b3e3-4909-8fa3-a8d0461f3cf5"
      },
      "execution_count": 43,
      "outputs": [
        {
          "output_type": "stream",
          "name": "stdout",
          "text": [
            "0      0\n",
            "1      2\n",
            "2      1\n",
            "3      0\n",
            "4      0\n",
            "      ..\n",
            "297    1\n",
            "298    1\n",
            "299    2\n",
            "300    3\n",
            "301    1\n",
            "Name: class, Length: 297, dtype: int64\n"
          ]
        }
      ]
    },
    {
      "cell_type": "code",
      "source": [
        "X.size"
      ],
      "metadata": {
        "colab": {
          "base_uri": "https://localhost:8080/"
        },
        "id": "ossqQSIYQyw4",
        "outputId": "e4e6d213-42e3-4161-830c-2731c2c7b655"
      },
      "execution_count": 44,
      "outputs": [
        {
          "output_type": "execute_result",
          "data": {
            "text/plain": [
              "3861"
            ]
          },
          "metadata": {},
          "execution_count": 44
        }
      ]
    },
    {
      "cell_type": "markdown",
      "source": [
        "Model Training\n",
        "\n",
        "# **Categorical and Binary Model**"
      ],
      "metadata": {
        "id": "IQufhQyMxbcx"
      }
    },
    {
      "cell_type": "code",
      "source": [
        "X_train, X_test, y_train, y_test = model_selection.train_test_split(X, y, test_size = 0.3)"
      ],
      "metadata": {
        "id": "0Df9mHpHx3ef"
      },
      "execution_count": 45,
      "outputs": []
    },
    {
      "cell_type": "code",
      "source": [
        "Y_train = to_categorical(y_train, num_classes=None)\n",
        "Y_test = to_categorical(y_test, num_classes=None)"
      ],
      "metadata": {
        "id": "Zuxul_YVx_SP"
      },
      "execution_count": 46,
      "outputs": []
    },
    {
      "cell_type": "code",
      "source": [
        "def create_model():\n",
        "    #create\n",
        "    model = Sequential()\n",
        "    model.add(Dense(8, input_dim=13, kernel_initializer='normal', activation='relu'))\n",
        "    model.add(Dense(4, kernel_initializer='normal', activation='relu'))\n",
        "    model.add(Dense(5, activation = 'softmax'))\n",
        "\n",
        "    #compile\n",
        "    adam = Adam(lr = 0.001)\n",
        "    model.compile(loss='categorical_crossentropy', optimizer=adam, metrics=['accuracy'])\n",
        "    return model"
      ],
      "metadata": {
        "id": "dT4umLMuyCu_"
      },
      "execution_count": 47,
      "outputs": []
    },
    {
      "cell_type": "code",
      "source": [
        "model = create_model()"
      ],
      "metadata": {
        "colab": {
          "base_uri": "https://localhost:8080/"
        },
        "id": "IEASJEYJyGVv",
        "outputId": "1c8c781f-5615-4653-bd4d-749a47783a4d"
      },
      "execution_count": 48,
      "outputs": [
        {
          "output_type": "stream",
          "name": "stderr",
          "text": [
            "WARNING:absl:`lr` is deprecated in Keras optimizer, please use `learning_rate` or use the legacy optimizer, e.g.,tf.keras.optimizers.legacy.Adam.\n"
          ]
        }
      ]
    },
    {
      "cell_type": "code",
      "source": [
        "model.fit(X_train, Y_train, epochs=100, batch_size=10, verbose = 1)"
      ],
      "metadata": {
        "colab": {
          "base_uri": "https://localhost:8080/"
        },
        "id": "-Tng2aZuyKi-",
        "outputId": "ca0d9798-47ef-4379-ee9c-d49af3a40c4f"
      },
      "execution_count": 49,
      "outputs": [
        {
          "output_type": "stream",
          "name": "stdout",
          "text": [
            "Epoch 1/100\n",
            "21/21 [==============================] - 2s 2ms/step - loss: 1.5713 - accuracy: 0.3961 \n",
            "Epoch 2/100\n",
            "21/21 [==============================] - 0s 2ms/step - loss: 1.3337 - accuracy: 0.5604\n",
            "Epoch 3/100\n",
            "21/21 [==============================] - 0s 2ms/step - loss: 1.2907 - accuracy: 0.5604\n",
            "Epoch 4/100\n",
            "21/21 [==============================] - 0s 2ms/step - loss: 1.2716 - accuracy: 0.5604\n",
            "Epoch 5/100\n",
            "21/21 [==============================] - 0s 2ms/step - loss: 1.2564 - accuracy: 0.5604\n",
            "Epoch 6/100\n",
            "21/21 [==============================] - 0s 2ms/step - loss: 1.2485 - accuracy: 0.5604\n",
            "Epoch 7/100\n",
            "21/21 [==============================] - 0s 2ms/step - loss: 1.2299 - accuracy: 0.5604\n",
            "Epoch 8/100\n",
            "21/21 [==============================] - 0s 2ms/step - loss: 1.2227 - accuracy: 0.5604\n",
            "Epoch 9/100\n",
            "21/21 [==============================] - 0s 2ms/step - loss: 1.2091 - accuracy: 0.5604\n",
            "Epoch 10/100\n",
            "21/21 [==============================] - 0s 2ms/step - loss: 1.1992 - accuracy: 0.5604\n",
            "Epoch 11/100\n",
            "21/21 [==============================] - 0s 2ms/step - loss: 1.1921 - accuracy: 0.5604\n",
            "Epoch 12/100\n",
            "21/21 [==============================] - 0s 2ms/step - loss: 1.1852 - accuracy: 0.5604\n",
            "Epoch 13/100\n",
            "21/21 [==============================] - 0s 2ms/step - loss: 1.1837 - accuracy: 0.5604\n",
            "Epoch 14/100\n",
            "21/21 [==============================] - 0s 2ms/step - loss: 1.1724 - accuracy: 0.5604\n",
            "Epoch 15/100\n",
            "21/21 [==============================] - 0s 2ms/step - loss: 1.1541 - accuracy: 0.5604\n",
            "Epoch 16/100\n",
            "21/21 [==============================] - 0s 2ms/step - loss: 1.1411 - accuracy: 0.5604\n",
            "Epoch 17/100\n",
            "21/21 [==============================] - 0s 2ms/step - loss: 1.1290 - accuracy: 0.5604\n",
            "Epoch 18/100\n",
            "21/21 [==============================] - 0s 2ms/step - loss: 1.1286 - accuracy: 0.5604\n",
            "Epoch 19/100\n",
            "21/21 [==============================] - 0s 2ms/step - loss: 1.1223 - accuracy: 0.5604\n",
            "Epoch 20/100\n",
            "21/21 [==============================] - 0s 2ms/step - loss: 1.1050 - accuracy: 0.5652\n",
            "Epoch 21/100\n",
            "21/21 [==============================] - 0s 2ms/step - loss: 1.0960 - accuracy: 0.5652\n",
            "Epoch 22/100\n",
            "21/21 [==============================] - 0s 2ms/step - loss: 1.0908 - accuracy: 0.5652\n",
            "Epoch 23/100\n",
            "21/21 [==============================] - 0s 2ms/step - loss: 1.0774 - accuracy: 0.5700\n",
            "Epoch 24/100\n",
            "21/21 [==============================] - 0s 2ms/step - loss: 1.0695 - accuracy: 0.5700\n",
            "Epoch 25/100\n",
            "21/21 [==============================] - 0s 2ms/step - loss: 1.0694 - accuracy: 0.5749\n",
            "Epoch 26/100\n",
            "21/21 [==============================] - 0s 2ms/step - loss: 1.0619 - accuracy: 0.5700\n",
            "Epoch 27/100\n",
            "21/21 [==============================] - 0s 2ms/step - loss: 1.0580 - accuracy: 0.5700\n",
            "Epoch 28/100\n",
            "21/21 [==============================] - 0s 2ms/step - loss: 1.0738 - accuracy: 0.5797\n",
            "Epoch 29/100\n",
            "21/21 [==============================] - 0s 2ms/step - loss: 1.0483 - accuracy: 0.5797\n",
            "Epoch 30/100\n",
            "21/21 [==============================] - 0s 2ms/step - loss: 1.0408 - accuracy: 0.5700\n",
            "Epoch 31/100\n",
            "21/21 [==============================] - 0s 2ms/step - loss: 1.0294 - accuracy: 0.5749\n",
            "Epoch 32/100\n",
            "21/21 [==============================] - 0s 2ms/step - loss: 1.0312 - accuracy: 0.5797\n",
            "Epoch 33/100\n",
            "21/21 [==============================] - 0s 2ms/step - loss: 1.0250 - accuracy: 0.5797\n",
            "Epoch 34/100\n",
            "21/21 [==============================] - 0s 2ms/step - loss: 1.0264 - accuracy: 0.5797\n",
            "Epoch 35/100\n",
            "21/21 [==============================] - 0s 2ms/step - loss: 1.0156 - accuracy: 0.5749\n",
            "Epoch 36/100\n",
            "21/21 [==============================] - 0s 2ms/step - loss: 1.0047 - accuracy: 0.5749\n",
            "Epoch 37/100\n",
            "21/21 [==============================] - 0s 2ms/step - loss: 1.0051 - accuracy: 0.6087\n",
            "Epoch 38/100\n",
            "21/21 [==============================] - 0s 2ms/step - loss: 0.9959 - accuracy: 0.6087\n",
            "Epoch 39/100\n",
            "21/21 [==============================] - 0s 2ms/step - loss: 0.9988 - accuracy: 0.5942\n",
            "Epoch 40/100\n",
            "21/21 [==============================] - 0s 2ms/step - loss: 0.9897 - accuracy: 0.6087\n",
            "Epoch 41/100\n",
            "21/21 [==============================] - 0s 2ms/step - loss: 0.9811 - accuracy: 0.6135\n",
            "Epoch 42/100\n",
            "21/21 [==============================] - 0s 2ms/step - loss: 0.9807 - accuracy: 0.6087\n",
            "Epoch 43/100\n",
            "21/21 [==============================] - 0s 2ms/step - loss: 0.9766 - accuracy: 0.6184\n",
            "Epoch 44/100\n",
            "21/21 [==============================] - 0s 2ms/step - loss: 0.9779 - accuracy: 0.6184\n",
            "Epoch 45/100\n",
            "21/21 [==============================] - 0s 2ms/step - loss: 0.9731 - accuracy: 0.6039\n",
            "Epoch 46/100\n",
            "21/21 [==============================] - 0s 2ms/step - loss: 0.9738 - accuracy: 0.6039\n",
            "Epoch 47/100\n",
            "21/21 [==============================] - 0s 2ms/step - loss: 0.9658 - accuracy: 0.6087\n",
            "Epoch 48/100\n",
            "21/21 [==============================] - 0s 2ms/step - loss: 0.9525 - accuracy: 0.6184\n",
            "Epoch 49/100\n",
            "21/21 [==============================] - 0s 2ms/step - loss: 0.9487 - accuracy: 0.6280\n",
            "Epoch 50/100\n",
            "21/21 [==============================] - 0s 2ms/step - loss: 0.9435 - accuracy: 0.6184\n",
            "Epoch 51/100\n",
            "21/21 [==============================] - 0s 2ms/step - loss: 0.9510 - accuracy: 0.6280\n",
            "Epoch 52/100\n",
            "21/21 [==============================] - 0s 2ms/step - loss: 0.9597 - accuracy: 0.6184\n",
            "Epoch 53/100\n",
            "21/21 [==============================] - 0s 2ms/step - loss: 0.9353 - accuracy: 0.6425\n",
            "Epoch 54/100\n",
            "21/21 [==============================] - 0s 2ms/step - loss: 0.9359 - accuracy: 0.6329\n",
            "Epoch 55/100\n",
            "21/21 [==============================] - 0s 2ms/step - loss: 0.9498 - accuracy: 0.6329\n",
            "Epoch 56/100\n",
            "21/21 [==============================] - 0s 2ms/step - loss: 0.9342 - accuracy: 0.6377\n",
            "Epoch 57/100\n",
            "21/21 [==============================] - 0s 2ms/step - loss: 0.9267 - accuracy: 0.6280\n",
            "Epoch 58/100\n",
            "21/21 [==============================] - 0s 2ms/step - loss: 0.9215 - accuracy: 0.6425\n",
            "Epoch 59/100\n",
            "21/21 [==============================] - 0s 2ms/step - loss: 0.9146 - accuracy: 0.6377\n",
            "Epoch 60/100\n",
            "21/21 [==============================] - 0s 2ms/step - loss: 0.9134 - accuracy: 0.6377\n",
            "Epoch 61/100\n",
            "21/21 [==============================] - 0s 2ms/step - loss: 0.9186 - accuracy: 0.6329\n",
            "Epoch 62/100\n",
            "21/21 [==============================] - 0s 2ms/step - loss: 0.9144 - accuracy: 0.6232\n",
            "Epoch 63/100\n",
            "21/21 [==============================] - 0s 2ms/step - loss: 0.9053 - accuracy: 0.6473\n",
            "Epoch 64/100\n",
            "21/21 [==============================] - 0s 2ms/step - loss: 0.9101 - accuracy: 0.6473\n",
            "Epoch 65/100\n",
            "21/21 [==============================] - 0s 2ms/step - loss: 0.9096 - accuracy: 0.6329\n",
            "Epoch 66/100\n",
            "21/21 [==============================] - 0s 2ms/step - loss: 0.9006 - accuracy: 0.6473\n",
            "Epoch 67/100\n",
            "21/21 [==============================] - 0s 2ms/step - loss: 0.9061 - accuracy: 0.6473\n",
            "Epoch 68/100\n",
            "21/21 [==============================] - 0s 2ms/step - loss: 0.8937 - accuracy: 0.6473\n",
            "Epoch 69/100\n",
            "21/21 [==============================] - 0s 2ms/step - loss: 0.8943 - accuracy: 0.6425\n",
            "Epoch 70/100\n",
            "21/21 [==============================] - 0s 2ms/step - loss: 0.9007 - accuracy: 0.6425\n",
            "Epoch 71/100\n",
            "21/21 [==============================] - 0s 2ms/step - loss: 0.8865 - accuracy: 0.6473\n",
            "Epoch 72/100\n",
            "21/21 [==============================] - 0s 2ms/step - loss: 0.8933 - accuracy: 0.6473\n",
            "Epoch 73/100\n",
            "21/21 [==============================] - 0s 2ms/step - loss: 0.8916 - accuracy: 0.6473\n",
            "Epoch 74/100\n",
            "21/21 [==============================] - 0s 2ms/step - loss: 0.8880 - accuracy: 0.6522\n",
            "Epoch 75/100\n",
            "21/21 [==============================] - 0s 2ms/step - loss: 0.8808 - accuracy: 0.6473\n",
            "Epoch 76/100\n",
            "21/21 [==============================] - 0s 2ms/step - loss: 0.8895 - accuracy: 0.6522\n",
            "Epoch 77/100\n",
            "21/21 [==============================] - 0s 2ms/step - loss: 0.8792 - accuracy: 0.6473\n",
            "Epoch 78/100\n",
            "21/21 [==============================] - 0s 2ms/step - loss: 0.8797 - accuracy: 0.6473\n",
            "Epoch 79/100\n",
            "21/21 [==============================] - 0s 2ms/step - loss: 0.9094 - accuracy: 0.6425\n",
            "Epoch 80/100\n",
            "21/21 [==============================] - 0s 2ms/step - loss: 0.8861 - accuracy: 0.6473\n",
            "Epoch 81/100\n",
            "21/21 [==============================] - 0s 2ms/step - loss: 0.8873 - accuracy: 0.6522\n",
            "Epoch 82/100\n",
            "21/21 [==============================] - 0s 2ms/step - loss: 0.8774 - accuracy: 0.6377\n",
            "Epoch 83/100\n",
            "21/21 [==============================] - 0s 2ms/step - loss: 0.8814 - accuracy: 0.6522\n",
            "Epoch 84/100\n",
            "21/21 [==============================] - 0s 2ms/step - loss: 0.8699 - accuracy: 0.6473\n",
            "Epoch 85/100\n",
            "21/21 [==============================] - 0s 8ms/step - loss: 0.8687 - accuracy: 0.6473\n",
            "Epoch 86/100\n",
            "21/21 [==============================] - 0s 10ms/step - loss: 0.8863 - accuracy: 0.6667\n",
            "Epoch 87/100\n",
            "21/21 [==============================] - 0s 9ms/step - loss: 0.8811 - accuracy: 0.6425\n",
            "Epoch 88/100\n",
            "21/21 [==============================] - 0s 8ms/step - loss: 0.8681 - accuracy: 0.6473\n",
            "Epoch 89/100\n",
            "21/21 [==============================] - 0s 4ms/step - loss: 0.8620 - accuracy: 0.6425\n",
            "Epoch 90/100\n",
            "21/21 [==============================] - 0s 3ms/step - loss: 0.8730 - accuracy: 0.6522\n",
            "Epoch 91/100\n",
            "21/21 [==============================] - 0s 4ms/step - loss: 0.8657 - accuracy: 0.6473\n",
            "Epoch 92/100\n",
            "21/21 [==============================] - 0s 2ms/step - loss: 0.8706 - accuracy: 0.6522\n",
            "Epoch 93/100\n",
            "21/21 [==============================] - 0s 2ms/step - loss: 0.8599 - accuracy: 0.6522\n",
            "Epoch 94/100\n",
            "21/21 [==============================] - 0s 2ms/step - loss: 0.8826 - accuracy: 0.6280\n",
            "Epoch 95/100\n",
            "21/21 [==============================] - 0s 2ms/step - loss: 0.8669 - accuracy: 0.6377\n",
            "Epoch 96/100\n",
            "21/21 [==============================] - 0s 2ms/step - loss: 0.8585 - accuracy: 0.6473\n",
            "Epoch 97/100\n",
            "21/21 [==============================] - 0s 2ms/step - loss: 0.8529 - accuracy: 0.6522\n",
            "Epoch 98/100\n",
            "21/21 [==============================] - 0s 2ms/step - loss: 0.8630 - accuracy: 0.6522\n",
            "Epoch 99/100\n",
            "21/21 [==============================] - 0s 2ms/step - loss: 0.8526 - accuracy: 0.6618\n",
            "Epoch 100/100\n",
            "21/21 [==============================] - 0s 2ms/step - loss: 0.8669 - accuracy: 0.6570\n"
          ]
        },
        {
          "output_type": "execute_result",
          "data": {
            "text/plain": [
              "<keras.src.callbacks.History at 0x7d4e4c23e830>"
            ]
          },
          "metadata": {},
          "execution_count": 49
        }
      ]
    },
    {
      "cell_type": "code",
      "source": [
        "Y_train_binary = y_train.copy()\n",
        "Y_test_binary = y_test.copy()\n",
        "Y_train_binary[Y_train_binary > 0] = 1\n",
        "Y_test_binary[Y_test_binary > 0] = 1\n",
        "\n",
        "print (Y_train_binary[:20])"
      ],
      "metadata": {
        "colab": {
          "base_uri": "https://localhost:8080/"
        },
        "id": "Wy1ONA7byMQ3",
        "outputId": "56cbc68e-47f8-453c-a4ca-519fcddfd907"
      },
      "execution_count": 50,
      "outputs": [
        {
          "output_type": "stream",
          "name": "stdout",
          "text": [
            "277    0\n",
            "218    0\n",
            "56     1\n",
            "89     0\n",
            "195    1\n",
            "126    1\n",
            "200    0\n",
            "148    0\n",
            "142    0\n",
            "285    1\n",
            "254    0\n",
            "186    0\n",
            "53     0\n",
            "116    0\n",
            "45     1\n",
            "238    0\n",
            "54     1\n",
            "183    0\n",
            "228    1\n",
            "6      1\n",
            "Name: class, dtype: int64\n"
          ]
        }
      ]
    },
    {
      "cell_type": "code",
      "source": [
        "def create_binary_model():\n",
        "    model = Sequential()\n",
        "    model.add(Dense(8, input_dim=13, kernel_initializer='normal', activation='relu'))\n",
        "    model.add(Dense(4, kernel_initializer='normal', activation='relu'))\n",
        "    model.add(Dense(1, activation='sigmoid'))\n",
        "    adam = Adam(lr=0.001)\n",
        "    model.compile(loss='binary_crossentropy', optimizer=adam, metrics=['accuracy'])\n",
        "    return model"
      ],
      "metadata": {
        "id": "lE2ZI5FgyP85"
      },
      "execution_count": 51,
      "outputs": []
    },
    {
      "cell_type": "code",
      "source": [
        "binary_model = create_binary_model()"
      ],
      "metadata": {
        "colab": {
          "base_uri": "https://localhost:8080/"
        },
        "id": "Jnp_E7dFyg-I",
        "outputId": "05f64291-cbb0-4aa8-b5b3-846961f14a78"
      },
      "execution_count": 52,
      "outputs": [
        {
          "output_type": "stream",
          "name": "stderr",
          "text": [
            "WARNING:absl:`lr` is deprecated in Keras optimizer, please use `learning_rate` or use the legacy optimizer, e.g.,tf.keras.optimizers.legacy.Adam.\n"
          ]
        }
      ]
    },
    {
      "cell_type": "code",
      "source": [
        "binary_model.fit(X_train, Y_train_binary, epochs=100, batch_size=10, verbose=1)"
      ],
      "metadata": {
        "colab": {
          "base_uri": "https://localhost:8080/"
        },
        "id": "csVP7gWLyTkg",
        "outputId": "f04041d8-7040-4533-e222-7a1e744d4046"
      },
      "execution_count": 53,
      "outputs": [
        {
          "output_type": "stream",
          "name": "stdout",
          "text": [
            "Epoch 1/100\n",
            "21/21 [==============================] - 1s 4ms/step - loss: 0.7192 - accuracy: 0.4783\n",
            "Epoch 2/100\n",
            "21/21 [==============================] - 0s 3ms/step - loss: 0.6940 - accuracy: 0.4879\n",
            "Epoch 3/100\n",
            "21/21 [==============================] - 0s 3ms/step - loss: 0.6927 - accuracy: 0.5894\n",
            "Epoch 4/100\n",
            "21/21 [==============================] - 0s 3ms/step - loss: 0.6919 - accuracy: 0.6039\n",
            "Epoch 5/100\n",
            "21/21 [==============================] - 0s 4ms/step - loss: 0.6911 - accuracy: 0.5990\n",
            "Epoch 6/100\n",
            "21/21 [==============================] - 0s 4ms/step - loss: 0.6903 - accuracy: 0.6184\n",
            "Epoch 7/100\n",
            "21/21 [==============================] - 0s 3ms/step - loss: 0.6894 - accuracy: 0.6618\n",
            "Epoch 8/100\n",
            "21/21 [==============================] - 0s 3ms/step - loss: 0.6883 - accuracy: 0.6039\n",
            "Epoch 9/100\n",
            "21/21 [==============================] - 0s 3ms/step - loss: 0.6873 - accuracy: 0.6280\n",
            "Epoch 10/100\n",
            "21/21 [==============================] - 0s 3ms/step - loss: 0.6860 - accuracy: 0.6570\n",
            "Epoch 11/100\n",
            "21/21 [==============================] - 0s 3ms/step - loss: 0.6854 - accuracy: 0.6135\n",
            "Epoch 12/100\n",
            "21/21 [==============================] - 0s 3ms/step - loss: 0.6829 - accuracy: 0.6570\n",
            "Epoch 13/100\n",
            "21/21 [==============================] - 0s 3ms/step - loss: 0.6807 - accuracy: 0.6570\n",
            "Epoch 14/100\n",
            "21/21 [==============================] - 0s 3ms/step - loss: 0.6765 - accuracy: 0.6618\n",
            "Epoch 15/100\n",
            "21/21 [==============================] - 0s 2ms/step - loss: 0.6719 - accuracy: 0.6957\n",
            "Epoch 16/100\n",
            "21/21 [==============================] - 0s 2ms/step - loss: 0.6675 - accuracy: 0.6812\n",
            "Epoch 17/100\n",
            "21/21 [==============================] - 0s 2ms/step - loss: 0.6489 - accuracy: 0.7198\n",
            "Epoch 18/100\n",
            "21/21 [==============================] - 0s 2ms/step - loss: 0.5995 - accuracy: 0.7295\n",
            "Epoch 19/100\n",
            "21/21 [==============================] - 0s 2ms/step - loss: 0.5714 - accuracy: 0.7391\n",
            "Epoch 20/100\n",
            "21/21 [==============================] - 0s 2ms/step - loss: 0.5525 - accuracy: 0.7488\n",
            "Epoch 21/100\n",
            "21/21 [==============================] - 0s 2ms/step - loss: 0.5548 - accuracy: 0.7343\n",
            "Epoch 22/100\n",
            "21/21 [==============================] - 0s 2ms/step - loss: 0.5436 - accuracy: 0.7488\n",
            "Epoch 23/100\n",
            "21/21 [==============================] - 0s 2ms/step - loss: 0.5092 - accuracy: 0.7681\n",
            "Epoch 24/100\n",
            "21/21 [==============================] - 0s 2ms/step - loss: 0.5061 - accuracy: 0.7729\n",
            "Epoch 25/100\n",
            "21/21 [==============================] - 0s 2ms/step - loss: 0.4953 - accuracy: 0.7633\n",
            "Epoch 26/100\n",
            "21/21 [==============================] - 0s 2ms/step - loss: 0.4770 - accuracy: 0.7971\n",
            "Epoch 27/100\n",
            "21/21 [==============================] - 0s 2ms/step - loss: 0.4985 - accuracy: 0.7633\n",
            "Epoch 28/100\n",
            "21/21 [==============================] - 0s 2ms/step - loss: 0.4689 - accuracy: 0.8068\n",
            "Epoch 29/100\n",
            "21/21 [==============================] - 0s 2ms/step - loss: 0.4593 - accuracy: 0.7923\n",
            "Epoch 30/100\n",
            "21/21 [==============================] - 0s 2ms/step - loss: 0.4525 - accuracy: 0.7923\n",
            "Epoch 31/100\n",
            "21/21 [==============================] - 0s 2ms/step - loss: 0.4516 - accuracy: 0.8019\n",
            "Epoch 32/100\n",
            "21/21 [==============================] - 0s 2ms/step - loss: 0.4472 - accuracy: 0.7874\n",
            "Epoch 33/100\n",
            "21/21 [==============================] - 0s 2ms/step - loss: 0.4428 - accuracy: 0.7874\n",
            "Epoch 34/100\n",
            "21/21 [==============================] - 0s 2ms/step - loss: 0.4337 - accuracy: 0.8019\n",
            "Epoch 35/100\n",
            "21/21 [==============================] - 0s 2ms/step - loss: 0.4532 - accuracy: 0.7778\n",
            "Epoch 36/100\n",
            "21/21 [==============================] - 0s 2ms/step - loss: 0.4181 - accuracy: 0.8309\n",
            "Epoch 37/100\n",
            "21/21 [==============================] - 0s 2ms/step - loss: 0.4269 - accuracy: 0.8019\n",
            "Epoch 38/100\n",
            "21/21 [==============================] - 0s 2ms/step - loss: 0.4480 - accuracy: 0.8019\n",
            "Epoch 39/100\n",
            "21/21 [==============================] - 0s 2ms/step - loss: 0.4308 - accuracy: 0.8019\n",
            "Epoch 40/100\n",
            "21/21 [==============================] - 0s 2ms/step - loss: 0.4211 - accuracy: 0.7923\n",
            "Epoch 41/100\n",
            "21/21 [==============================] - 0s 2ms/step - loss: 0.4031 - accuracy: 0.8309\n",
            "Epoch 42/100\n",
            "21/21 [==============================] - 0s 2ms/step - loss: 0.3966 - accuracy: 0.8309\n",
            "Epoch 43/100\n",
            "21/21 [==============================] - 0s 2ms/step - loss: 0.4227 - accuracy: 0.7971\n",
            "Epoch 44/100\n",
            "21/21 [==============================] - 0s 2ms/step - loss: 0.4032 - accuracy: 0.8454\n",
            "Epoch 45/100\n",
            "21/21 [==============================] - 0s 2ms/step - loss: 0.3895 - accuracy: 0.8502\n",
            "Epoch 46/100\n",
            "21/21 [==============================] - 0s 2ms/step - loss: 0.4034 - accuracy: 0.8309\n",
            "Epoch 47/100\n",
            "21/21 [==============================] - 0s 2ms/step - loss: 0.3974 - accuracy: 0.8261\n",
            "Epoch 48/100\n",
            "21/21 [==============================] - 0s 2ms/step - loss: 0.3981 - accuracy: 0.8357\n",
            "Epoch 49/100\n",
            "21/21 [==============================] - 0s 2ms/step - loss: 0.3804 - accuracy: 0.8357\n",
            "Epoch 50/100\n",
            "21/21 [==============================] - 0s 2ms/step - loss: 0.4181 - accuracy: 0.8406\n",
            "Epoch 51/100\n",
            "21/21 [==============================] - 0s 2ms/step - loss: 0.3980 - accuracy: 0.8261\n",
            "Epoch 52/100\n",
            "21/21 [==============================] - 0s 2ms/step - loss: 0.3976 - accuracy: 0.8454\n",
            "Epoch 53/100\n",
            "21/21 [==============================] - 0s 2ms/step - loss: 0.3865 - accuracy: 0.8261\n",
            "Epoch 54/100\n",
            "21/21 [==============================] - 0s 2ms/step - loss: 0.3987 - accuracy: 0.8213\n",
            "Epoch 55/100\n",
            "21/21 [==============================] - 0s 2ms/step - loss: 0.3844 - accuracy: 0.8454\n",
            "Epoch 56/100\n",
            "21/21 [==============================] - 0s 2ms/step - loss: 0.3808 - accuracy: 0.8406\n",
            "Epoch 57/100\n",
            "21/21 [==============================] - 0s 2ms/step - loss: 0.3703 - accuracy: 0.8502\n",
            "Epoch 58/100\n",
            "21/21 [==============================] - 0s 2ms/step - loss: 0.3704 - accuracy: 0.8502\n",
            "Epoch 59/100\n",
            "21/21 [==============================] - 0s 2ms/step - loss: 0.3710 - accuracy: 0.8744\n",
            "Epoch 60/100\n",
            "21/21 [==============================] - 0s 2ms/step - loss: 0.3696 - accuracy: 0.8309\n",
            "Epoch 61/100\n",
            "21/21 [==============================] - 0s 2ms/step - loss: 0.3654 - accuracy: 0.8599\n",
            "Epoch 62/100\n",
            "21/21 [==============================] - 0s 2ms/step - loss: 0.3751 - accuracy: 0.8551\n",
            "Epoch 63/100\n",
            "21/21 [==============================] - 0s 2ms/step - loss: 0.3975 - accuracy: 0.8406\n",
            "Epoch 64/100\n",
            "21/21 [==============================] - 0s 2ms/step - loss: 0.3664 - accuracy: 0.8744\n",
            "Epoch 65/100\n",
            "21/21 [==============================] - 0s 2ms/step - loss: 0.3670 - accuracy: 0.8551\n",
            "Epoch 66/100\n",
            "21/21 [==============================] - 0s 2ms/step - loss: 0.3672 - accuracy: 0.8502\n",
            "Epoch 67/100\n",
            "21/21 [==============================] - 0s 2ms/step - loss: 0.3815 - accuracy: 0.8454\n",
            "Epoch 68/100\n",
            "21/21 [==============================] - 0s 2ms/step - loss: 0.3685 - accuracy: 0.8647\n",
            "Epoch 69/100\n",
            "21/21 [==============================] - 0s 2ms/step - loss: 0.3668 - accuracy: 0.8647\n",
            "Epoch 70/100\n",
            "21/21 [==============================] - 0s 2ms/step - loss: 0.3659 - accuracy: 0.8647\n",
            "Epoch 71/100\n",
            "21/21 [==============================] - 0s 2ms/step - loss: 0.3623 - accuracy: 0.8502\n",
            "Epoch 72/100\n",
            "21/21 [==============================] - 0s 2ms/step - loss: 0.3552 - accuracy: 0.8551\n",
            "Epoch 73/100\n",
            "21/21 [==============================] - 0s 2ms/step - loss: 0.3773 - accuracy: 0.8406\n",
            "Epoch 74/100\n",
            "21/21 [==============================] - 0s 2ms/step - loss: 0.3791 - accuracy: 0.8454\n",
            "Epoch 75/100\n",
            "21/21 [==============================] - 0s 2ms/step - loss: 0.3604 - accuracy: 0.8647\n",
            "Epoch 76/100\n",
            "21/21 [==============================] - 0s 2ms/step - loss: 0.3687 - accuracy: 0.8502\n",
            "Epoch 77/100\n",
            "21/21 [==============================] - 0s 2ms/step - loss: 0.3628 - accuracy: 0.8599\n",
            "Epoch 78/100\n",
            "21/21 [==============================] - 0s 2ms/step - loss: 0.3630 - accuracy: 0.8502\n",
            "Epoch 79/100\n",
            "21/21 [==============================] - 0s 2ms/step - loss: 0.3751 - accuracy: 0.8647\n",
            "Epoch 80/100\n",
            "21/21 [==============================] - 0s 2ms/step - loss: 0.3546 - accuracy: 0.8599\n",
            "Epoch 81/100\n",
            "21/21 [==============================] - 0s 2ms/step - loss: 0.3602 - accuracy: 0.8454\n",
            "Epoch 82/100\n",
            "21/21 [==============================] - 0s 2ms/step - loss: 0.3641 - accuracy: 0.8454\n",
            "Epoch 83/100\n",
            "21/21 [==============================] - 0s 2ms/step - loss: 0.3783 - accuracy: 0.8551\n",
            "Epoch 84/100\n",
            "21/21 [==============================] - 0s 2ms/step - loss: 0.3605 - accuracy: 0.8454\n",
            "Epoch 85/100\n",
            "21/21 [==============================] - 0s 2ms/step - loss: 0.3724 - accuracy: 0.8357\n",
            "Epoch 86/100\n",
            "21/21 [==============================] - 0s 2ms/step - loss: 0.4284 - accuracy: 0.7971\n",
            "Epoch 87/100\n",
            "21/21 [==============================] - 0s 2ms/step - loss: 0.3905 - accuracy: 0.8309\n",
            "Epoch 88/100\n",
            "21/21 [==============================] - 0s 2ms/step - loss: 0.3529 - accuracy: 0.8551\n",
            "Epoch 89/100\n",
            "21/21 [==============================] - 0s 2ms/step - loss: 0.3634 - accuracy: 0.8599\n",
            "Epoch 90/100\n",
            "21/21 [==============================] - 0s 2ms/step - loss: 0.3500 - accuracy: 0.8647\n",
            "Epoch 91/100\n",
            "21/21 [==============================] - 0s 2ms/step - loss: 0.3598 - accuracy: 0.8599\n",
            "Epoch 92/100\n",
            "21/21 [==============================] - 0s 2ms/step - loss: 0.3595 - accuracy: 0.8647\n",
            "Epoch 93/100\n",
            "21/21 [==============================] - 0s 2ms/step - loss: 0.3582 - accuracy: 0.8551\n",
            "Epoch 94/100\n",
            "21/21 [==============================] - 0s 2ms/step - loss: 0.3783 - accuracy: 0.8502\n",
            "Epoch 95/100\n",
            "21/21 [==============================] - 0s 2ms/step - loss: 0.3548 - accuracy: 0.8599\n",
            "Epoch 96/100\n",
            "21/21 [==============================] - 0s 2ms/step - loss: 0.3794 - accuracy: 0.8261\n",
            "Epoch 97/100\n",
            "21/21 [==============================] - 0s 2ms/step - loss: 0.3600 - accuracy: 0.8454\n",
            "Epoch 98/100\n",
            "21/21 [==============================] - 0s 2ms/step - loss: 0.3602 - accuracy: 0.8599\n",
            "Epoch 99/100\n",
            "21/21 [==============================] - 0s 2ms/step - loss: 0.3609 - accuracy: 0.8599\n",
            "Epoch 100/100\n",
            "21/21 [==============================] - 0s 2ms/step - loss: 0.3758 - accuracy: 0.8599\n"
          ]
        },
        {
          "output_type": "execute_result",
          "data": {
            "text/plain": [
              "<keras.src.callbacks.History at 0x7d4e3c1d8df0>"
            ]
          },
          "metadata": {},
          "execution_count": 53
        }
      ]
    },
    {
      "cell_type": "code",
      "source": [
        "categorical_pred = np.argmax(model.predict(X_test), axis=1)\n",
        "print(\"Results for categorical model\")\n",
        "print(accuracy_score(y_test, categorical_pred))\n",
        "print(classification_report(y_test, categorical_pred))"
      ],
      "metadata": {
        "colab": {
          "base_uri": "https://localhost:8080/"
        },
        "id": "19Hu6002yUKZ",
        "outputId": "bc5bdf30-5eb3-4ad2-b9fd-0d56feaf3caf"
      },
      "execution_count": 54,
      "outputs": [
        {
          "output_type": "stream",
          "name": "stdout",
          "text": [
            "3/3 [==============================] - 0s 3ms/step\n",
            "Results for categorical model\n",
            "0.5333333333333333\n",
            "              precision    recall  f1-score   support\n",
            "\n",
            "           0       0.62      0.98      0.76        44\n",
            "           1       0.40      0.11      0.17        19\n",
            "           2       0.00      0.00      0.00        15\n",
            "           3       0.19      0.50      0.27         6\n",
            "           4       0.00      0.00      0.00         6\n",
            "\n",
            "    accuracy                           0.53        90\n",
            "   macro avg       0.24      0.32      0.24        90\n",
            "weighted avg       0.40      0.53      0.43        90\n",
            "\n"
          ]
        },
        {
          "output_type": "stream",
          "name": "stderr",
          "text": [
            "/usr/local/lib/python3.10/dist-packages/sklearn/metrics/_classification.py:1344: UndefinedMetricWarning: Precision and F-score are ill-defined and being set to 0.0 in labels with no predicted samples. Use `zero_division` parameter to control this behavior.\n",
            "  _warn_prf(average, modifier, msg_start, len(result))\n",
            "/usr/local/lib/python3.10/dist-packages/sklearn/metrics/_classification.py:1344: UndefinedMetricWarning: Precision and F-score are ill-defined and being set to 0.0 in labels with no predicted samples. Use `zero_division` parameter to control this behavior.\n",
            "  _warn_prf(average, modifier, msg_start, len(result))\n",
            "/usr/local/lib/python3.10/dist-packages/sklearn/metrics/_classification.py:1344: UndefinedMetricWarning: Precision and F-score are ill-defined and being set to 0.0 in labels with no predicted samples. Use `zero_division` parameter to control this behavior.\n",
            "  _warn_prf(average, modifier, msg_start, len(result))\n"
          ]
        }
      ]
    },
    {
      "cell_type": "code",
      "source": [
        "binary_pred = np.round(binary_model.predict(X_test)).astype(int)\n",
        "print('Results for Binary Model')\n",
        "print(accuracy_score(Y_test_binary, binary_pred))\n",
        "print(classification_report(Y_test_binary, binary_pred))"
      ],
      "metadata": {
        "colab": {
          "base_uri": "https://localhost:8080/"
        },
        "id": "6h0HA9-6yl5e",
        "outputId": "fa4a855d-2a27-4d5f-f358-06127b28f7ea"
      },
      "execution_count": 55,
      "outputs": [
        {
          "output_type": "stream",
          "name": "stdout",
          "text": [
            "3/3 [==============================] - 0s 3ms/step\n",
            "Results for Binary Model\n",
            "0.8333333333333334\n",
            "              precision    recall  f1-score   support\n",
            "\n",
            "           0       0.76      0.95      0.85        44\n",
            "           1       0.94      0.72      0.81        46\n",
            "\n",
            "    accuracy                           0.83        90\n",
            "   macro avg       0.85      0.84      0.83        90\n",
            "weighted avg       0.86      0.83      0.83        90\n",
            "\n"
          ]
        }
      ]
    },
    {
      "cell_type": "markdown",
      "source": [
        "\n",
        "\n",
        "# **Logistic Regression Model**"
      ],
      "metadata": {
        "id": "mfDumPzYBV6N"
      }
    },
    {
      "cell_type": "markdown",
      "source": [
        "Splitting the Data into Training Data and Test Data"
      ],
      "metadata": {
        "id": "R36HzmoR_67e"
      }
    },
    {
      "cell_type": "code",
      "source": [
        "X_train,X_test,y_train,y_test=train_test_split(X,y,random_state=10,test_size=0.3,shuffle=True)\n"
      ],
      "metadata": {
        "id": "i3FKuNKvAEf8"
      },
      "execution_count": 56,
      "outputs": []
    },
    {
      "cell_type": "code",
      "source": [
        "LR = LogisticRegression(solver=\"liblinear\")\n"
      ],
      "metadata": {
        "id": "rmaTfISaBdBs"
      },
      "execution_count": 57,
      "outputs": []
    },
    {
      "cell_type": "code",
      "source": [
        "#training the model using training data"
      ],
      "metadata": {
        "id": "MxAXRGVaBjN8"
      },
      "execution_count": 58,
      "outputs": []
    },
    {
      "cell_type": "code",
      "source": [
        "LR.fit(X_train,y_train)"
      ],
      "metadata": {
        "id": "S9SwpPPmBprd",
        "colab": {
          "base_uri": "https://localhost:8080/",
          "height": 75
        },
        "outputId": "b256fc89-f935-44cb-f656-98c7e9b573cf"
      },
      "execution_count": 60,
      "outputs": [
        {
          "output_type": "execute_result",
          "data": {
            "text/plain": [
              "LogisticRegression(solver='liblinear')"
            ],
            "text/html": [
              "<style>#sk-container-id-1 {color: black;background-color: white;}#sk-container-id-1 pre{padding: 0;}#sk-container-id-1 div.sk-toggleable {background-color: white;}#sk-container-id-1 label.sk-toggleable__label {cursor: pointer;display: block;width: 100%;margin-bottom: 0;padding: 0.3em;box-sizing: border-box;text-align: center;}#sk-container-id-1 label.sk-toggleable__label-arrow:before {content: \"▸\";float: left;margin-right: 0.25em;color: #696969;}#sk-container-id-1 label.sk-toggleable__label-arrow:hover:before {color: black;}#sk-container-id-1 div.sk-estimator:hover label.sk-toggleable__label-arrow:before {color: black;}#sk-container-id-1 div.sk-toggleable__content {max-height: 0;max-width: 0;overflow: hidden;text-align: left;background-color: #f0f8ff;}#sk-container-id-1 div.sk-toggleable__content pre {margin: 0.2em;color: black;border-radius: 0.25em;background-color: #f0f8ff;}#sk-container-id-1 input.sk-toggleable__control:checked~div.sk-toggleable__content {max-height: 200px;max-width: 100%;overflow: auto;}#sk-container-id-1 input.sk-toggleable__control:checked~label.sk-toggleable__label-arrow:before {content: \"▾\";}#sk-container-id-1 div.sk-estimator input.sk-toggleable__control:checked~label.sk-toggleable__label {background-color: #d4ebff;}#sk-container-id-1 div.sk-label input.sk-toggleable__control:checked~label.sk-toggleable__label {background-color: #d4ebff;}#sk-container-id-1 input.sk-hidden--visually {border: 0;clip: rect(1px 1px 1px 1px);clip: rect(1px, 1px, 1px, 1px);height: 1px;margin: -1px;overflow: hidden;padding: 0;position: absolute;width: 1px;}#sk-container-id-1 div.sk-estimator {font-family: monospace;background-color: #f0f8ff;border: 1px dotted black;border-radius: 0.25em;box-sizing: border-box;margin-bottom: 0.5em;}#sk-container-id-1 div.sk-estimator:hover {background-color: #d4ebff;}#sk-container-id-1 div.sk-parallel-item::after {content: \"\";width: 100%;border-bottom: 1px solid gray;flex-grow: 1;}#sk-container-id-1 div.sk-label:hover label.sk-toggleable__label {background-color: #d4ebff;}#sk-container-id-1 div.sk-serial::before {content: \"\";position: absolute;border-left: 1px solid gray;box-sizing: border-box;top: 0;bottom: 0;left: 50%;z-index: 0;}#sk-container-id-1 div.sk-serial {display: flex;flex-direction: column;align-items: center;background-color: white;padding-right: 0.2em;padding-left: 0.2em;position: relative;}#sk-container-id-1 div.sk-item {position: relative;z-index: 1;}#sk-container-id-1 div.sk-parallel {display: flex;align-items: stretch;justify-content: center;background-color: white;position: relative;}#sk-container-id-1 div.sk-item::before, #sk-container-id-1 div.sk-parallel-item::before {content: \"\";position: absolute;border-left: 1px solid gray;box-sizing: border-box;top: 0;bottom: 0;left: 50%;z-index: -1;}#sk-container-id-1 div.sk-parallel-item {display: flex;flex-direction: column;z-index: 1;position: relative;background-color: white;}#sk-container-id-1 div.sk-parallel-item:first-child::after {align-self: flex-end;width: 50%;}#sk-container-id-1 div.sk-parallel-item:last-child::after {align-self: flex-start;width: 50%;}#sk-container-id-1 div.sk-parallel-item:only-child::after {width: 0;}#sk-container-id-1 div.sk-dashed-wrapped {border: 1px dashed gray;margin: 0 0.4em 0.5em 0.4em;box-sizing: border-box;padding-bottom: 0.4em;background-color: white;}#sk-container-id-1 div.sk-label label {font-family: monospace;font-weight: bold;display: inline-block;line-height: 1.2em;}#sk-container-id-1 div.sk-label-container {text-align: center;}#sk-container-id-1 div.sk-container {/* jupyter's `normalize.less` sets `[hidden] { display: none; }` but bootstrap.min.css set `[hidden] { display: none !important; }` so we also need the `!important` here to be able to override the default hidden behavior on the sphinx rendered scikit-learn.org. See: https://github.com/scikit-learn/scikit-learn/issues/21755 */display: inline-block !important;position: relative;}#sk-container-id-1 div.sk-text-repr-fallback {display: none;}</style><div id=\"sk-container-id-1\" class=\"sk-top-container\"><div class=\"sk-text-repr-fallback\"><pre>LogisticRegression(solver=&#x27;liblinear&#x27;)</pre><b>In a Jupyter environment, please rerun this cell to show the HTML representation or trust the notebook. <br />On GitHub, the HTML representation is unable to render, please try loading this page with nbviewer.org.</b></div><div class=\"sk-container\" hidden><div class=\"sk-item\"><div class=\"sk-estimator sk-toggleable\"><input class=\"sk-toggleable__control sk-hidden--visually\" id=\"sk-estimator-id-1\" type=\"checkbox\" checked><label for=\"sk-estimator-id-1\" class=\"sk-toggleable__label sk-toggleable__label-arrow\">LogisticRegression</label><div class=\"sk-toggleable__content\"><pre>LogisticRegression(solver=&#x27;liblinear&#x27;)</pre></div></div></div></div></div>"
            ]
          },
          "metadata": {},
          "execution_count": 60
        }
      ]
    },
    {
      "cell_type": "markdown",
      "source": [
        "Modal Evaluation\n",
        "\n",
        "Accuracy Score"
      ],
      "metadata": {
        "id": "iV0Fpr5SC1kU"
      }
    },
    {
      "cell_type": "code",
      "source": [
        "#accuracy on training data\n",
        "X_train_prediction=LR.predict(X_train)\n",
        "trainig_data_accuracy= accuracy_score(X_train_prediction,y_train)\n"
      ],
      "metadata": {
        "id": "9s8QEGY-C2yF"
      },
      "execution_count": 61,
      "outputs": []
    },
    {
      "cell_type": "code",
      "source": [
        "print(\"Accuracy On Training Data : \", trainig_data_accuracy*100)"
      ],
      "metadata": {
        "id": "AyUVrHgjDmh9",
        "colab": {
          "base_uri": "https://localhost:8080/"
        },
        "outputId": "8a06d236-3c22-4a53-d112-5cd13bea0665"
      },
      "execution_count": 62,
      "outputs": [
        {
          "output_type": "stream",
          "name": "stdout",
          "text": [
            "Accuracy On Training Data :  66.18357487922705\n"
          ]
        }
      ]
    },
    {
      "cell_type": "code",
      "source": [
        "#accuracy on testing data\n",
        "X_test_prediction=LR.predict(X_test)\n",
        "testing_data_accuracy= accuracy_score(X_test_prediction,y_test)\n"
      ],
      "metadata": {
        "id": "mvmtAkZ3D41J"
      },
      "execution_count": 63,
      "outputs": []
    },
    {
      "cell_type": "code",
      "source": [
        "print(\"Accuracy On Testing Data : \", testing_data_accuracy*100)"
      ],
      "metadata": {
        "id": "zr2V-OleEQ_F",
        "colab": {
          "base_uri": "https://localhost:8080/"
        },
        "outputId": "8fc2ec9a-08f4-46e4-bf71-4232ca346e6c"
      },
      "execution_count": 64,
      "outputs": [
        {
          "output_type": "stream",
          "name": "stdout",
          "text": [
            "Accuracy On Testing Data :  58.88888888888889\n"
          ]
        }
      ]
    },
    {
      "cell_type": "markdown",
      "source": [
        "Checking Accuracy using confusion matrix."
      ],
      "metadata": {
        "id": "Powf7kNiO61v"
      }
    },
    {
      "cell_type": "code",
      "source": [
        "from sklearn.metrics import confusion_matrix\n",
        "cm = confusion_matrix(X_train_prediction,y_train, labels=[0, 1])\n",
        "\n",
        "print(cm)"
      ],
      "metadata": {
        "colab": {
          "base_uri": "https://localhost:8080/"
        },
        "outputId": "bbd3107f-0aa3-4d5c-c992-9ba4d1c8ae78",
        "id": "YXOjJmZuO61x"
      },
      "execution_count": 65,
      "outputs": [
        {
          "output_type": "stream",
          "name": "stdout",
          "text": [
            "[[99 23]\n",
            " [ 3 13]]\n"
          ]
        }
      ]
    },
    {
      "cell_type": "code",
      "source": [
        "fig, ax = plt.subplots(figsize=(7.5, 7.5))\n",
        "ax.matshow(cm, cmap=plt.cm.Blues, alpha=0.3)\n",
        "for i in range(cm.shape[0]):\n",
        "    for j in range(cm.shape[1]):\n",
        "        ax.text(x=j, y=i,s=cm[i, j], va='center', ha='center', size='xx-large')\n",
        "\n",
        "plt.xlabel('Predictions', fontsize=18)\n",
        "plt.ylabel('Actuals', fontsize=18)\n",
        "plt.title('Confusion Matrix', fontsize=18)"
      ],
      "metadata": {
        "colab": {
          "base_uri": "https://localhost:8080/",
          "height": 716
        },
        "id": "tDJH2T_-QKf-",
        "outputId": "87505627-9743-43a7-d9be-3f164b8b37f8"
      },
      "execution_count": 66,
      "outputs": [
        {
          "output_type": "execute_result",
          "data": {
            "text/plain": [
              "Text(0.5, 1.0, 'Confusion Matrix')"
            ]
          },
          "metadata": {},
          "execution_count": 66
        },
        {
          "output_type": "display_data",
          "data": {
            "text/plain": [
              "<Figure size 750x750 with 1 Axes>"
            ],
            "image/png": "[encoded data removed]"
          },
          "metadata": {}
        }
      ]
    },
    {
      "cell_type": "code",
      "source": [
        "tn, fp, fn, tp = confusion_matrix(list(X_train_prediction), list(y_train), labels=[0, 1]).ravel()\n",
        "\n",
        "print('True Positive', tp)\n",
        "print('True Negative', tn)\n",
        "print('False Positive', fp)\n",
        "print('False Negative', fn)"
      ],
      "metadata": {
        "colab": {
          "base_uri": "https://localhost:8080/"
        },
        "outputId": "6235622d-498a-463a-969f-734ef824e80b",
        "id": "-__qQ92TO61y"
      },
      "execution_count": 67,
      "outputs": [
        {
          "output_type": "stream",
          "name": "stdout",
          "text": [
            "True Positive 13\n",
            "True Negative 99\n",
            "False Positive 23\n",
            "False Negative 3\n"
          ]
        }
      ]
    },
    {
      "cell_type": "code",
      "source": [
        "acc = (tp+tn) / (tp+tn+fn+fp)\n",
        "\n",
        "print('Accuracy On Training Data : ',acc*100)"
      ],
      "metadata": {
        "colab": {
          "base_uri": "https://localhost:8080/"
        },
        "outputId": "edbe537c-fef9-44a6-ae9a-0833864fd120",
        "id": "t-sUkDC_O61z"
      },
      "execution_count": 68,
      "outputs": [
        {
          "output_type": "stream",
          "name": "stdout",
          "text": [
            "Accuracy On Training Data :  81.15942028985508\n"
          ]
        }
      ]
    },
    {
      "cell_type": "code",
      "source": [
        "tn, fp, fn, tp = confusion_matrix(list(X_test_prediction), list(y_test), labels=[0, 1]).ravel()\n",
        "\n",
        "print('True Positive', tp)\n",
        "print('True Negative', tn)\n",
        "print('False Positive', fp)\n",
        "print('False Negative', fn)"
      ],
      "metadata": {
        "colab": {
          "base_uri": "https://localhost:8080/"
        },
        "outputId": "48c9e87c-a803-4597-d60f-806f53922a6c",
        "id": "ZCfsHzFuO610"
      },
      "execution_count": 69,
      "outputs": [
        {
          "output_type": "stream",
          "name": "stdout",
          "text": [
            "True Positive 2\n",
            "True Negative 49\n",
            "False Positive 4\n",
            "False Negative 6\n"
          ]
        }
      ]
    },
    {
      "cell_type": "code",
      "source": [
        "acc = (tp+tn) / (tp+tn+fn+fp)\n",
        "\n",
        "print('Accuracy On Testing Data : ',acc*100)"
      ],
      "metadata": {
        "colab": {
          "base_uri": "https://localhost:8080/"
        },
        "outputId": "cd39a7f6-3d9d-4bf5-af14-afcc86fb73e4",
        "id": "uIWYO2BnO610"
      },
      "execution_count": 70,
      "outputs": [
        {
          "output_type": "stream",
          "name": "stdout",
          "text": [
            "Accuracy On Testing Data :  83.60655737704919\n"
          ]
        }
      ]
    },
    {
      "cell_type": "markdown",
      "source": [
        "Sensitivity Score"
      ],
      "metadata": {
        "id": "3jIjdUQ_AqtU"
      }
    },
    {
      "cell_type": "code",
      "source": [
        "sen = (tp)/(tp+fn)\n",
        "print('Sensitivity Score is :',sen*100)"
      ],
      "metadata": {
        "colab": {
          "base_uri": "https://localhost:8080/"
        },
        "id": "ct9HiT2NA1hD",
        "outputId": "09991c99-1cd8-4bbf-c59f-ce666c9e0097"
      },
      "execution_count": 71,
      "outputs": [
        {
          "output_type": "stream",
          "name": "stdout",
          "text": [
            "Sensitivity Score is : 25.0\n"
          ]
        }
      ]
    },
    {
      "cell_type": "markdown",
      "source": [
        "Specificity Score"
      ],
      "metadata": {
        "id": "7yov0yttBseC"
      }
    },
    {
      "cell_type": "code",
      "source": [
        "spe = (tn)/(tn+fp)\n",
        "print('Specificity Score is :',spe*100)"
      ],
      "metadata": {
        "colab": {
          "base_uri": "https://localhost:8080/"
        },
        "id": "aKx7ruEFBvIu",
        "outputId": "59a86863-5a81-4c2a-a410-caadedf93fe6"
      },
      "execution_count": 72,
      "outputs": [
        {
          "output_type": "stream",
          "name": "stdout",
          "text": [
            "Specificity Score is : 92.45283018867924\n"
          ]
        }
      ]
    },
    {
      "cell_type": "markdown",
      "source": [
        "Positive Predictive Value"
      ],
      "metadata": {
        "id": "VO3ywCGbJKIO"
      }
    },
    {
      "cell_type": "code",
      "source": [
        "ppv = (tp)/(tp+fp)\n",
        "print('Positive Predictive Value is :',ppv*100)"
      ],
      "metadata": {
        "colab": {
          "base_uri": "https://localhost:8080/"
        },
        "id": "ADxgDFcLJJ4k",
        "outputId": "ff96c1e9-feff-4fb8-dcd6-38a18c6e5589"
      },
      "execution_count": 73,
      "outputs": [
        {
          "output_type": "stream",
          "name": "stdout",
          "text": [
            "Positive Predictive Value is : 33.33333333333333\n"
          ]
        }
      ]
    },
    {
      "cell_type": "markdown",
      "source": [
        "Negative Predictive Value"
      ],
      "metadata": {
        "id": "7vjOHunOJcwJ"
      }
    },
    {
      "cell_type": "code",
      "source": [
        "npv =(tn)/(tn+fn)\n",
        "print('Negative Predictive Value is :',npv*100)"
      ],
      "metadata": {
        "colab": {
          "base_uri": "https://localhost:8080/"
        },
        "id": "xk8IL9acJiOW",
        "outputId": "2d068479-49ec-47d9-8095-8da8668a5f5e"
      },
      "execution_count": 74,
      "outputs": [
        {
          "output_type": "stream",
          "name": "stdout",
          "text": [
            "Negative Predictive Value is : 89.0909090909091\n"
          ]
        }
      ]
    },
    {
      "cell_type": "markdown",
      "source": [
        "# **Multinomial** **Naive Bayes Model**"
      ],
      "metadata": {
        "id": "jm7Epi-sMJXL"
      }
    },
    {
      "cell_type": "markdown",
      "source": [
        "Splitting the Data into Training Data and Test Data\n",
        "\n",
        "\n",
        "\n"
      ],
      "metadata": {
        "id": "y8EVBySDNWwr"
      }
    },
    {
      "cell_type": "code",
      "source": [
        "X_train,X_test,y_train,y_test = train_test_split(X,y,test_size=0.2,stratify=y,random_state=3)"
      ],
      "metadata": {
        "id": "eA8PTKryNWwr"
      },
      "execution_count": 75,
      "outputs": []
    },
    {
      "cell_type": "code",
      "source": [
        "NB=MultinomialNB()\n"
      ],
      "metadata": {
        "id": "cVFUURSVykfi"
      },
      "execution_count": 76,
      "outputs": []
    },
    {
      "cell_type": "code",
      "source": [
        "NB.fit(X_train,y_train)"
      ],
      "metadata": {
        "colab": {
          "base_uri": "https://localhost:8080/",
          "height": 75
        },
        "id": "GZkTy12i0bDO",
        "outputId": "a6f58ea7-c0fa-4ca4-db41-7769b0fe4e7a"
      },
      "execution_count": 78,
      "outputs": [
        {
          "output_type": "execute_result",
          "data": {
            "text/plain": [
              "MultinomialNB()"
            ],
            "text/html": [
              "<style>#sk-container-id-2 {color: black;background-color: white;}#sk-container-id-2 pre{padding: 0;}#sk-container-id-2 div.sk-toggleable {background-color: white;}#sk-container-id-2 label.sk-toggleable__label {cursor: pointer;display: block;width: 100%;margin-bottom: 0;padding: 0.3em;box-sizing: border-box;text-align: center;}#sk-container-id-2 label.sk-toggleable__label-arrow:before {content: \"▸\";float: left;margin-right: 0.25em;color: #696969;}#sk-container-id-2 label.sk-toggleable__label-arrow:hover:before {color: black;}#sk-container-id-2 div.sk-estimator:hover label.sk-toggleable__label-arrow:before {color: black;}#sk-container-id-2 div.sk-toggleable__content {max-height: 0;max-width: 0;overflow: hidden;text-align: left;background-color: #f0f8ff;}#sk-container-id-2 div.sk-toggleable__content pre {margin: 0.2em;color: black;border-radius: 0.25em;background-color: #f0f8ff;}#sk-container-id-2 input.sk-toggleable__control:checked~div.sk-toggleable__content {max-height: 200px;max-width: 100%;overflow: auto;}#sk-container-id-2 input.sk-toggleable__control:checked~label.sk-toggleable__label-arrow:before {content: \"▾\";}#sk-container-id-2 div.sk-estimator input.sk-toggleable__control:checked~label.sk-toggleable__label {background-color: #d4ebff;}#sk-container-id-2 div.sk-label input.sk-toggleable__control:checked~label.sk-toggleable__label {background-color: #d4ebff;}#sk-container-id-2 input.sk-hidden--visually {border: 0;clip: rect(1px 1px 1px 1px);clip: rect(1px, 1px, 1px, 1px);height: 1px;margin: -1px;overflow: hidden;padding: 0;position: absolute;width: 1px;}#sk-container-id-2 div.sk-estimator {font-family: monospace;background-color: #f0f8ff;border: 1px dotted black;border-radius: 0.25em;box-sizing: border-box;margin-bottom: 0.5em;}#sk-container-id-2 div.sk-estimator:hover {background-color: #d4ebff;}#sk-container-id-2 div.sk-parallel-item::after {content: \"\";width: 100%;border-bottom: 1px solid gray;flex-grow: 1;}#sk-container-id-2 div.sk-label:hover label.sk-toggleable__label {background-color: #d4ebff;}#sk-container-id-2 div.sk-serial::before {content: \"\";position: absolute;border-left: 1px solid gray;box-sizing: border-box;top: 0;bottom: 0;left: 50%;z-index: 0;}#sk-container-id-2 div.sk-serial {display: flex;flex-direction: column;align-items: center;background-color: white;padding-right: 0.2em;padding-left: 0.2em;position: relative;}#sk-container-id-2 div.sk-item {position: relative;z-index: 1;}#sk-container-id-2 div.sk-parallel {display: flex;align-items: stretch;justify-content: center;background-color: white;position: relative;}#sk-container-id-2 div.sk-item::before, #sk-container-id-2 div.sk-parallel-item::before {content: \"\";position: absolute;border-left: 1px solid gray;box-sizing: border-box;top: 0;bottom: 0;left: 50%;z-index: -1;}#sk-container-id-2 div.sk-parallel-item {display: flex;flex-direction: column;z-index: 1;position: relative;background-color: white;}#sk-container-id-2 div.sk-parallel-item:first-child::after {align-self: flex-end;width: 50%;}#sk-container-id-2 div.sk-parallel-item:last-child::after {align-self: flex-start;width: 50%;}#sk-container-id-2 div.sk-parallel-item:only-child::after {width: 0;}#sk-container-id-2 div.sk-dashed-wrapped {border: 1px dashed gray;margin: 0 0.4em 0.5em 0.4em;box-sizing: border-box;padding-bottom: 0.4em;background-color: white;}#sk-container-id-2 div.sk-label label {font-family: monospace;font-weight: bold;display: inline-block;line-height: 1.2em;}#sk-container-id-2 div.sk-label-container {text-align: center;}#sk-container-id-2 div.sk-container {/* jupyter's `normalize.less` sets `[hidden] { display: none; }` but bootstrap.min.css set `[hidden] { display: none !important; }` so we also need the `!important` here to be able to override the default hidden behavior on the sphinx rendered scikit-learn.org. See: https://github.com/scikit-learn/scikit-learn/issues/21755 */display: inline-block !important;position: relative;}#sk-container-id-2 div.sk-text-repr-fallback {display: none;}</style><div id=\"sk-container-id-2\" class=\"sk-top-container\"><div class=\"sk-text-repr-fallback\"><pre>MultinomialNB()</pre><b>In a Jupyter environment, please rerun this cell to show the HTML representation or trust the notebook. <br />On GitHub, the HTML representation is unable to render, please try loading this page with nbviewer.org.</b></div><div class=\"sk-container\" hidden><div class=\"sk-item\"><div class=\"sk-estimator sk-toggleable\"><input class=\"sk-toggleable__control sk-hidden--visually\" id=\"sk-estimator-id-2\" type=\"checkbox\" checked><label for=\"sk-estimator-id-2\" class=\"sk-toggleable__label sk-toggleable__label-arrow\">MultinomialNB</label><div class=\"sk-toggleable__content\"><pre>MultinomialNB()</pre></div></div></div></div></div>"
            ]
          },
          "metadata": {},
          "execution_count": 78
        }
      ]
    },
    {
      "cell_type": "markdown",
      "source": [
        "Modal Evaluation\n",
        "\n",
        "Accuracy Score"
      ],
      "metadata": {
        "id": "lG-ufH4faeXK"
      }
    },
    {
      "cell_type": "code",
      "source": [
        "X_train_prediction=NB.predict(X_train)\n",
        "trainig_data_accuracy= accuracy_score(X_train_prediction,y_train)"
      ],
      "metadata": {
        "id": "_6dSxjBN0eHV"
      },
      "execution_count": 79,
      "outputs": []
    },
    {
      "cell_type": "code",
      "source": [
        "print(\"Accuracy On Training Data : \", trainig_data_accuracy*100)"
      ],
      "metadata": {
        "colab": {
          "base_uri": "https://localhost:8080/"
        },
        "id": "barXAoMi0nUJ",
        "outputId": "aca2b7d3-02d9-4c83-b865-cb8dd8015afd"
      },
      "execution_count": 80,
      "outputs": [
        {
          "output_type": "stream",
          "name": "stdout",
          "text": [
            "Accuracy On Training Data :  59.49367088607595\n"
          ]
        }
      ]
    },
    {
      "cell_type": "code",
      "source": [
        "X_test_prediction=NB.predict(X_test)\n",
        "testing_data_accuracy= accuracy_score(X_test_prediction,y_test)"
      ],
      "metadata": {
        "id": "hQ3wi_qR0r5r"
      },
      "execution_count": 81,
      "outputs": []
    },
    {
      "cell_type": "code",
      "source": [
        "print(\"Accuracy On Testing Data : \", testing_data_accuracy*100)"
      ],
      "metadata": {
        "colab": {
          "base_uri": "https://localhost:8080/"
        },
        "id": "qhg0_UG40xD2",
        "outputId": "a56ac19c-07c2-4ffd-a524-2b8a9e7d6398"
      },
      "execution_count": 82,
      "outputs": [
        {
          "output_type": "stream",
          "name": "stdout",
          "text": [
            "Accuracy On Testing Data :  58.333333333333336\n"
          ]
        }
      ]
    },
    {
      "cell_type": "markdown",
      "source": [
        "Checking Accuracy using confusion matrix."
      ],
      "metadata": {
        "id": "aoRsX7QIOPl2"
      }
    },
    {
      "cell_type": "code",
      "source": [
        "from sklearn.metrics import confusion_matrix\n",
        "cm = confusion_matrix(X_train_prediction,y_train, labels=[0, 1])\n",
        "\n",
        "print(cm)"
      ],
      "metadata": {
        "colab": {
          "base_uri": "https://localhost:8080/"
        },
        "id": "IqRq7Whf4GMn",
        "outputId": "d08c726e-5b06-4d33-b228-12aec4b5cde3"
      },
      "execution_count": 83,
      "outputs": [
        {
          "output_type": "stream",
          "name": "stdout",
          "text": [
            "[[103  22]\n",
            " [ 13  10]]\n"
          ]
        }
      ]
    },
    {
      "cell_type": "code",
      "source": [
        "fig, ax = plt.subplots(figsize=(7.5, 7.5))\n",
        "ax.matshow(cm, cmap=plt.cm.Blues, alpha=0.3)\n",
        "for i in range(cm.shape[0]):\n",
        "    for j in range(cm.shape[1]):\n",
        "        ax.text(x=j, y=i,s=cm[i, j], va='center', ha='center', size='xx-large')\n",
        "\n",
        "plt.xlabel('Predictions', fontsize=18)\n",
        "plt.ylabel('Actuals', fontsize=18)\n",
        "plt.title('Confusion Matrix', fontsize=18)"
      ],
      "metadata": {
        "id": "28pHJn8VRIpB",
        "outputId": "0afff271-06ef-458d-a9a0-395a3d3530fd",
        "colab": {
          "base_uri": "https://localhost:8080/",
          "height": 716
        }
      },
      "execution_count": 84,
      "outputs": [
        {
          "output_type": "execute_result",
          "data": {
            "text/plain": [
              "Text(0.5, 1.0, 'Confusion Matrix')"
            ]
          },
          "metadata": {},
          "execution_count": 84
        },
        {
          "output_type": "display_data",
          "data": {
            "text/plain": [
              "<Figure size 750x750 with 1 Axes>"
            ],
            "image/png": "[encoded data removed]"
          },
          "metadata": {}
        }
      ]
    },
    {
      "cell_type": "code",
      "source": [
        "tn, fp, fn, tp = confusion_matrix(list(X_train_prediction), list(y_train), labels=[0, 1]).ravel()\n",
        "\n",
        "print('True Positive', tp)\n",
        "print('True Negative', tn)\n",
        "print('False Positive', fp)\n",
        "print('False Negative', fn)"
      ],
      "metadata": {
        "colab": {
          "base_uri": "https://localhost:8080/"
        },
        "id": "V_7yZYcb5NeX",
        "outputId": "c5a6c3e2-5907-43f7-9fd0-1fc3d81e81b1"
      },
      "execution_count": 85,
      "outputs": [
        {
          "output_type": "stream",
          "name": "stdout",
          "text": [
            "True Positive 10\n",
            "True Negative 103\n",
            "False Positive 22\n",
            "False Negative 13\n"
          ]
        }
      ]
    },
    {
      "cell_type": "code",
      "source": [
        "acc = (tp+tn) / (tp+tn+fn+fp)\n",
        "\n",
        "print('Accuracy On Training Data : ',acc*100)"
      ],
      "metadata": {
        "colab": {
          "base_uri": "https://localhost:8080/"
        },
        "id": "SgrFbfeD5egV",
        "outputId": "0781d4fc-10d6-4cc2-d751-cc8ac41b574a"
      },
      "execution_count": 87,
      "outputs": [
        {
          "output_type": "stream",
          "name": "stdout",
          "text": [
            "Accuracy On Training Data :  76.35135135135135\n"
          ]
        }
      ]
    },
    {
      "cell_type": "code",
      "source": [
        "tn, fp, fn, tp = confusion_matrix(list(X_test_prediction), list(y_test), labels=[0, 1]).ravel()\n",
        "\n",
        "print('True Positive', tp)\n",
        "print('True Negative', tn)\n",
        "print('False Positive', fp)\n",
        "print('False Negative', fn)"
      ],
      "metadata": {
        "colab": {
          "base_uri": "https://localhost:8080/"
        },
        "id": "hF6v4DfA6AX6",
        "outputId": "92eedec6-e60a-4e11-b93b-034b8ead2b43"
      },
      "execution_count": 88,
      "outputs": [
        {
          "output_type": "stream",
          "name": "stdout",
          "text": [
            "True Positive 4\n",
            "True Negative 26\n",
            "False Positive 4\n",
            "False Negative 5\n"
          ]
        }
      ]
    },
    {
      "cell_type": "code",
      "source": [
        "acc = (tp+tn) / (tp+tn+fn+fp)\n",
        "\n",
        "print('Accuracy On Testing Data : ',acc*100)"
      ],
      "metadata": {
        "colab": {
          "base_uri": "https://localhost:8080/"
        },
        "id": "a_F17IyS02Jb",
        "outputId": "63e5b7f2-a567-488c-96c2-14781ac848c3"
      },
      "execution_count": 89,
      "outputs": [
        {
          "output_type": "stream",
          "name": "stdout",
          "text": [
            "Accuracy On Testing Data :  76.92307692307693\n"
          ]
        }
      ]
    },
    {
      "cell_type": "code",
      "source": [],
      "metadata": {
        "id": "qjUtr4pqOmx2"
      },
      "execution_count": 89,
      "outputs": []
    },
    {
      "cell_type": "markdown",
      "source": [
        "Sensitivity Score"
      ],
      "metadata": {
        "id": "2fDhqAsbOXwe"
      }
    },
    {
      "cell_type": "code",
      "source": [
        "sen = (tp)/(tp+fn)\n",
        "print('Sensitivity Score is :',sen*100)"
      ],
      "metadata": {
        "colab": {
          "base_uri": "https://localhost:8080/"
        },
        "outputId": "80416cb4-590d-44a1-f87d-9785f6a63a62",
        "id": "q4Xt1o7ROXwn"
      },
      "execution_count": 90,
      "outputs": [
        {
          "output_type": "stream",
          "name": "stdout",
          "text": [
            "Sensitivity Score is : 44.44444444444444\n"
          ]
        }
      ]
    },
    {
      "cell_type": "markdown",
      "source": [
        "Specificity Score"
      ],
      "metadata": {
        "id": "WWTcNnLFOXwo"
      }
    },
    {
      "cell_type": "code",
      "source": [
        "spe = (tn)/(tn+fp)\n",
        "print('Specificity Score is :',spe*100)"
      ],
      "metadata": {
        "colab": {
          "base_uri": "https://localhost:8080/"
        },
        "outputId": "46d15359-d5a7-499e-e169-fc77c72a2d93",
        "id": "xtQUE3m6OXwo"
      },
      "execution_count": 91,
      "outputs": [
        {
          "output_type": "stream",
          "name": "stdout",
          "text": [
            "Specificity Score is : 86.66666666666667\n"
          ]
        }
      ]
    },
    {
      "cell_type": "markdown",
      "source": [
        "Positive Predictive Value"
      ],
      "metadata": {
        "id": "itj0qXEoOXwo"
      }
    },
    {
      "cell_type": "code",
      "source": [
        "ppv = (tp)/(tp+fp)\n",
        "print('Positive Predictive Value is :',ppv*100)"
      ],
      "metadata": {
        "colab": {
          "base_uri": "https://localhost:8080/"
        },
        "outputId": "8ace8a0a-4c30-43c1-88a9-9e18f701d6c4",
        "id": "HFxwAQsPOXwo"
      },
      "execution_count": 92,
      "outputs": [
        {
          "output_type": "stream",
          "name": "stdout",
          "text": [
            "Positive Predictive Value is : 50.0\n"
          ]
        }
      ]
    },
    {
      "cell_type": "markdown",
      "source": [
        "Negative Predictive Value"
      ],
      "metadata": {
        "id": "rMV-pLPTOXwp"
      }
    },
    {
      "cell_type": "code",
      "source": [
        "npv =(tn)/(tn+fn)\n",
        "print('Negative Predictive Value is :',npv*100)"
      ],
      "metadata": {
        "colab": {
          "base_uri": "https://localhost:8080/"
        },
        "outputId": "9dae477a-0624-47fb-b231-905252ca04ca",
        "id": "biYnbnMnOXwp"
      },
      "execution_count": 93,
      "outputs": [
        {
          "output_type": "stream",
          "name": "stdout",
          "text": [
            "Negative Predictive Value is : 83.87096774193549\n"
          ]
        }
      ]
    },
    {
      "cell_type": "markdown",
      "source": [
        "# **Decision Tree Model**"
      ],
      "metadata": {
        "id": "8pxlhpI9PPXB"
      }
    },
    {
      "cell_type": "markdown",
      "source": [
        "Splitting the Data into Training Data and Test Data\n"
      ],
      "metadata": {
        "id": "KK9HMVRgPtuu"
      }
    },
    {
      "cell_type": "code",
      "source": [
        "X_train,X_test,y_train,y_test=train_test_split(X,y,random_state=10,test_size=0.3,shuffle=True)\n"
      ],
      "metadata": {
        "id": "bzY-FaRoPse0"
      },
      "execution_count": 94,
      "outputs": []
    },
    {
      "cell_type": "code",
      "source": [
        "dt=DecisionTreeClassifier(max_depth=11)\n",
        "dt.fit(X_train,y_train)"
      ],
      "metadata": {
        "colab": {
          "base_uri": "https://localhost:8080/",
          "height": 75
        },
        "id": "B0vNoLByP8OA",
        "outputId": "6d0c16f1-7212-4969-d1cb-a9754a093e22"
      },
      "execution_count": 96,
      "outputs": [
        {
          "output_type": "execute_result",
          "data": {
            "text/plain": [
              "DecisionTreeClassifier(max_depth=11)"
            ],
            "text/html": [
              "<style>#sk-container-id-3 {color: black;background-color: white;}#sk-container-id-3 pre{padding: 0;}#sk-container-id-3 div.sk-toggleable {background-color: white;}#sk-container-id-3 label.sk-toggleable__label {cursor: pointer;display: block;width: 100%;margin-bottom: 0;padding: 0.3em;box-sizing: border-box;text-align: center;}#sk-container-id-3 label.sk-toggleable__label-arrow:before {content: \"▸\";float: left;margin-right: 0.25em;color: #696969;}#sk-container-id-3 label.sk-toggleable__label-arrow:hover:before {color: black;}#sk-container-id-3 div.sk-estimator:hover label.sk-toggleable__label-arrow:before {color: black;}#sk-container-id-3 div.sk-toggleable__content {max-height: 0;max-width: 0;overflow: hidden;text-align: left;background-color: #f0f8ff;}#sk-container-id-3 div.sk-toggleable__content pre {margin: 0.2em;color: black;border-radius: 0.25em;background-color: #f0f8ff;}#sk-container-id-3 input.sk-toggleable__control:checked~div.sk-toggleable__content {max-height: 200px;max-width: 100%;overflow: auto;}#sk-container-id-3 input.sk-toggleable__control:checked~label.sk-toggleable__label-arrow:before {content: \"▾\";}#sk-container-id-3 div.sk-estimator input.sk-toggleable__control:checked~label.sk-toggleable__label {background-color: #d4ebff;}#sk-container-id-3 div.sk-label input.sk-toggleable__control:checked~label.sk-toggleable__label {background-color: #d4ebff;}#sk-container-id-3 input.sk-hidden--visually {border: 0;clip: rect(1px 1px 1px 1px);clip: rect(1px, 1px, 1px, 1px);height: 1px;margin: -1px;overflow: hidden;padding: 0;position: absolute;width: 1px;}#sk-container-id-3 div.sk-estimator {font-family: monospace;background-color: #f0f8ff;border: 1px dotted black;border-radius: 0.25em;box-sizing: border-box;margin-bottom: 0.5em;}#sk-container-id-3 div.sk-estimator:hover {background-color: #d4ebff;}#sk-container-id-3 div.sk-parallel-item::after {content: \"\";width: 100%;border-bottom: 1px solid gray;flex-grow: 1;}#sk-container-id-3 div.sk-label:hover label.sk-toggleable__label {background-color: #d4ebff;}#sk-container-id-3 div.sk-serial::before {content: \"\";position: absolute;border-left: 1px solid gray;box-sizing: border-box;top: 0;bottom: 0;left: 50%;z-index: 0;}#sk-container-id-3 div.sk-serial {display: flex;flex-direction: column;align-items: center;background-color: white;padding-right: 0.2em;padding-left: 0.2em;position: relative;}#sk-container-id-3 div.sk-item {position: relative;z-index: 1;}#sk-container-id-3 div.sk-parallel {display: flex;align-items: stretch;justify-content: center;background-color: white;position: relative;}#sk-container-id-3 div.sk-item::before, #sk-container-id-3 div.sk-parallel-item::before {content: \"\";position: absolute;border-left: 1px solid gray;box-sizing: border-box;top: 0;bottom: 0;left: 50%;z-index: -1;}#sk-container-id-3 div.sk-parallel-item {display: flex;flex-direction: column;z-index: 1;position: relative;background-color: white;}#sk-container-id-3 div.sk-parallel-item:first-child::after {align-self: flex-end;width: 50%;}#sk-container-id-3 div.sk-parallel-item:last-child::after {align-self: flex-start;width: 50%;}#sk-container-id-3 div.sk-parallel-item:only-child::after {width: 0;}#sk-container-id-3 div.sk-dashed-wrapped {border: 1px dashed gray;margin: 0 0.4em 0.5em 0.4em;box-sizing: border-box;padding-bottom: 0.4em;background-color: white;}#sk-container-id-3 div.sk-label label {font-family: monospace;font-weight: bold;display: inline-block;line-height: 1.2em;}#sk-container-id-3 div.sk-label-container {text-align: center;}#sk-container-id-3 div.sk-container {/* jupyter's `normalize.less` sets `[hidden] { display: none; }` but bootstrap.min.css set `[hidden] { display: none !important; }` so we also need the `!important` here to be able to override the default hidden behavior on the sphinx rendered scikit-learn.org. See: https://github.com/scikit-learn/scikit-learn/issues/21755 */display: inline-block !important;position: relative;}#sk-container-id-3 div.sk-text-repr-fallback {display: none;}</style><div id=\"sk-container-id-3\" class=\"sk-top-container\"><div class=\"sk-text-repr-fallback\"><pre>DecisionTreeClassifier(max_depth=11)</pre><b>In a Jupyter environment, please rerun this cell to show the HTML representation or trust the notebook. <br />On GitHub, the HTML representation is unable to render, please try loading this page with nbviewer.org.</b></div><div class=\"sk-container\" hidden><div class=\"sk-item\"><div class=\"sk-estimator sk-toggleable\"><input class=\"sk-toggleable__control sk-hidden--visually\" id=\"sk-estimator-id-3\" type=\"checkbox\" checked><label for=\"sk-estimator-id-3\" class=\"sk-toggleable__label sk-toggleable__label-arrow\">DecisionTreeClassifier</label><div class=\"sk-toggleable__content\"><pre>DecisionTreeClassifier(max_depth=11)</pre></div></div></div></div></div>"
            ]
          },
          "metadata": {},
          "execution_count": 96
        }
      ]
    },
    {
      "cell_type": "markdown",
      "source": [
        "Modal Evaluation\n",
        "\n",
        "Accuracy Score"
      ],
      "metadata": {
        "id": "1mHZKhjKahFW"
      }
    },
    {
      "cell_type": "code",
      "source": [
        "X_train_prediction=dt.predict(X_train)\n",
        "trainig_data_accuracy= accuracy_score(X_train_prediction,y_train)"
      ],
      "metadata": {
        "id": "dRxuo7euUAo1"
      },
      "execution_count": 97,
      "outputs": []
    },
    {
      "cell_type": "code",
      "source": [
        "print(\"Accuracy On Training Data : \", trainig_data_accuracy*100)"
      ],
      "metadata": {
        "colab": {
          "base_uri": "https://localhost:8080/"
        },
        "outputId": "1071d6eb-999a-4a80-a950-ccdea59b509c",
        "id": "lVTuixHsUOAU"
      },
      "execution_count": 98,
      "outputs": [
        {
          "output_type": "stream",
          "name": "stdout",
          "text": [
            "Accuracy On Training Data :  100.0\n"
          ]
        }
      ]
    },
    {
      "cell_type": "code",
      "source": [
        "X_test_prediction=dt.predict(X_test)\n",
        "testing_data_accuracy= accuracy_score(X_test_prediction,y_test)"
      ],
      "metadata": {
        "id": "tHcqxzHqUOAe"
      },
      "execution_count": 99,
      "outputs": []
    },
    {
      "cell_type": "code",
      "source": [
        "print(\"Accuracy On Testing Data : \", testing_data_accuracy*100)"
      ],
      "metadata": {
        "colab": {
          "base_uri": "https://localhost:8080/"
        },
        "outputId": "79039a48-46ce-4cfe-8923-ce5605f39fb6",
        "id": "9GIWY5OtUOAe"
      },
      "execution_count": 100,
      "outputs": [
        {
          "output_type": "stream",
          "name": "stdout",
          "text": [
            "Accuracy On Testing Data :  60.0\n"
          ]
        }
      ]
    },
    {
      "cell_type": "markdown",
      "source": [
        "Checking Accuracy using confusion matrix."
      ],
      "metadata": {
        "id": "LizJPMq7Vem5"
      }
    },
    {
      "cell_type": "code",
      "source": [
        "from sklearn.metrics import confusion_matrix\n",
        "cm = confusion_matrix(X_train_prediction,y_train, labels=[0, 1])\n",
        "\n",
        "print(cm)"
      ],
      "metadata": {
        "colab": {
          "base_uri": "https://localhost:8080/"
        },
        "outputId": "2f51f2d8-a30a-434a-d94f-4f6daa5dc1f6",
        "id": "Zu138RFHVem6"
      },
      "execution_count": 101,
      "outputs": [
        {
          "output_type": "stream",
          "name": "stdout",
          "text": [
            "[[104   0]\n",
            " [  0  43]]\n"
          ]
        }
      ]
    },
    {
      "cell_type": "code",
      "source": [
        "fig, ax = plt.subplots(figsize=(7.5, 7.5))\n",
        "ax.matshow(cm, cmap=plt.cm.Blues, alpha=0.3)\n",
        "for i in range(cm.shape[0]):\n",
        "    for j in range(cm.shape[1]):\n",
        "        ax.text(x=j, y=i,s=cm[i, j], va='center', ha='center', size='xx-large')\n",
        "\n",
        "plt.xlabel('Predictions', fontsize=18)\n",
        "plt.ylabel('Actuals', fontsize=18)\n",
        "plt.title('Confusion Matrix', fontsize=18)"
      ],
      "metadata": {
        "id": "Cbcr0fsXRNcY",
        "outputId": "badf1ecd-b0c2-49b6-a2c0-7872f97a7bd5",
        "colab": {
          "base_uri": "https://localhost:8080/",
          "height": 716
        }
      },
      "execution_count": 102,
      "outputs": [
        {
          "output_type": "execute_result",
          "data": {
            "text/plain": [
              "Text(0.5, 1.0, 'Confusion Matrix')"
            ]
          },
          "metadata": {},
          "execution_count": 102
        },
        {
          "output_type": "display_data",
          "data": {
            "text/plain": [
              "<Figure size 750x750 with 1 Axes>"
            ],
            "image/png": "[encoded data removed]"
          },
          "metadata": {}
        }
      ]
    },
    {
      "cell_type": "code",
      "source": [
        "tn, fp, fn, tp = confusion_matrix(list(X_train_prediction), list(y_train), labels=[0, 1]).ravel()\n",
        "\n",
        "print('True Positive', tp)\n",
        "print('True Negative', tn)\n",
        "print('False Positive', fp)\n",
        "print('False Negative', fn)"
      ],
      "metadata": {
        "colab": {
          "base_uri": "https://localhost:8080/"
        },
        "outputId": "90808337-7a83-46ef-cec5-0a53f70e97eb",
        "id": "soWcg9owVem6"
      },
      "execution_count": 103,
      "outputs": [
        {
          "output_type": "stream",
          "name": "stdout",
          "text": [
            "True Positive 43\n",
            "True Negative 104\n",
            "False Positive 0\n",
            "False Negative 0\n"
          ]
        }
      ]
    },
    {
      "cell_type": "code",
      "source": [
        "acc = (tp+tn) / (tp+tn+fn+fp)\n",
        "\n",
        "print('Accuracy On Training Data : ',acc*100)"
      ],
      "metadata": {
        "colab": {
          "base_uri": "https://localhost:8080/"
        },
        "outputId": "d44a5fa0-1a79-42fe-ae2a-65fc7d2c87c0",
        "id": "1QiYOPiTVem7"
      },
      "execution_count": 104,
      "outputs": [
        {
          "output_type": "stream",
          "name": "stdout",
          "text": [
            "Accuracy On Training Data :  100.0\n"
          ]
        }
      ]
    },
    {
      "cell_type": "code",
      "source": [
        "tn, fp, fn, tp = confusion_matrix(list(X_test_prediction), list(y_test), labels=[0, 1]).ravel()\n",
        "\n",
        "print('True Positive', tp)\n",
        "print('True Negative', tn)\n",
        "print('False Positive', fp)\n",
        "print('False Negative', fn)"
      ],
      "metadata": {
        "colab": {
          "base_uri": "https://localhost:8080/"
        },
        "outputId": "29b34e29-5284-4f73-e1ff-0f5ee04cb284",
        "id": "XR8llucoVem7"
      },
      "execution_count": 105,
      "outputs": [
        {
          "output_type": "stream",
          "name": "stdout",
          "text": [
            "True Positive 6\n",
            "True Negative 42\n",
            "False Positive 3\n",
            "False Negative 9\n"
          ]
        }
      ]
    },
    {
      "cell_type": "code",
      "source": [
        "acc = (tp+tn) / (tp+tn+fn+fp)\n",
        "\n",
        "print('Accuracy On Testing Data : ',acc*100)"
      ],
      "metadata": {
        "colab": {
          "base_uri": "https://localhost:8080/"
        },
        "outputId": "8d0d4a9a-a0ac-4d57-a4ab-a19687169560",
        "id": "26ho8SWwVem7"
      },
      "execution_count": 107,
      "outputs": [
        {
          "output_type": "stream",
          "name": "stdout",
          "text": [
            "Accuracy On Testing Data :  80.0\n"
          ]
        }
      ]
    },
    {
      "cell_type": "code",
      "source": [],
      "metadata": {
        "id": "_-nBPHOcOu42"
      },
      "execution_count": 107,
      "outputs": []
    },
    {
      "cell_type": "markdown",
      "source": [
        "Sensitivity Score"
      ],
      "metadata": {
        "id": "wn9_fda3OvL6"
      }
    },
    {
      "cell_type": "code",
      "source": [
        "sen = (tp)/(tp+fn)\n",
        "print('Sensitivity Score is :',sen*100)"
      ],
      "metadata": {
        "colab": {
          "base_uri": "https://localhost:8080/"
        },
        "outputId": "ead677b5-806e-4732-ab72-57c682d3eb04",
        "id": "sbXFNowWOvL6"
      },
      "execution_count": 108,
      "outputs": [
        {
          "output_type": "stream",
          "name": "stdout",
          "text": [
            "Sensitivity Score is : 40.0\n"
          ]
        }
      ]
    },
    {
      "cell_type": "markdown",
      "source": [
        "Specificity Score"
      ],
      "metadata": {
        "id": "23v8yWlhOvL7"
      }
    },
    {
      "cell_type": "code",
      "source": [
        "spe = (tn)/(tn+fp)\n",
        "print('Specificity Score is :',spe*100)"
      ],
      "metadata": {
        "colab": {
          "base_uri": "https://localhost:8080/"
        },
        "outputId": "372c6ad0-2bf8-4b34-bb46-7a719971f99d",
        "id": "ZONbgatyOvL7"
      },
      "execution_count": 109,
      "outputs": [
        {
          "output_type": "stream",
          "name": "stdout",
          "text": [
            "Specificity Score is : 93.33333333333333\n"
          ]
        }
      ]
    },
    {
      "cell_type": "markdown",
      "source": [
        "Positive Predictive Value"
      ],
      "metadata": {
        "id": "vCv8bIEyOvL7"
      }
    },
    {
      "cell_type": "code",
      "source": [
        "ppv = (tp)/(tp+fp)\n",
        "print('Positive Predictive Value is :',ppv*100)"
      ],
      "metadata": {
        "colab": {
          "base_uri": "https://localhost:8080/"
        },
        "outputId": "fcd195fe-7982-428d-a7ce-1ada18af435a",
        "id": "yxWVXlumOvL7"
      },
      "execution_count": 110,
      "outputs": [
        {
          "output_type": "stream",
          "name": "stdout",
          "text": [
            "Positive Predictive Value is : 66.66666666666666\n"
          ]
        }
      ]
    },
    {
      "cell_type": "markdown",
      "source": [
        "Negative Predictive Value"
      ],
      "metadata": {
        "id": "QhkaRmovOvL7"
      }
    },
    {
      "cell_type": "code",
      "source": [
        "npv =(tn)/(tn+fn)\n",
        "print('Negative Predictive Value is :',npv*100)"
      ],
      "metadata": {
        "colab": {
          "base_uri": "https://localhost:8080/"
        },
        "outputId": "986fcd8b-2adc-46c5-f47f-0f29b637a462",
        "id": "mR3WQATQOvL8"
      },
      "execution_count": 111,
      "outputs": [
        {
          "output_type": "stream",
          "name": "stdout",
          "text": [
            "Negative Predictive Value is : 82.35294117647058\n"
          ]
        }
      ]
    },
    {
      "cell_type": "markdown",
      "source": [
        "# **K Nearest Neighbour Model**"
      ],
      "metadata": {
        "id": "03NoKWqAV1Vw"
      }
    },
    {
      "cell_type": "markdown",
      "source": [
        "Splitting the Data into Training Data and Test Data\n"
      ],
      "metadata": {
        "id": "LTVeQupRWM6g"
      }
    },
    {
      "cell_type": "code",
      "source": [
        "X_train,X_test,y_train,y_test=train_test_split(X,y,random_state=10,test_size=0.3,shuffle=True)\n"
      ],
      "metadata": {
        "id": "v5PZSqr4WM6g"
      },
      "execution_count": 112,
      "outputs": []
    },
    {
      "cell_type": "code",
      "source": [
        "knn=KNeighborsClassifier(n_neighbors=8)\n",
        "knn.fit(X_train,y_train)"
      ],
      "metadata": {
        "colab": {
          "base_uri": "https://localhost:8080/",
          "height": 75
        },
        "id": "EKXtq9UlVsgH",
        "outputId": "1bfdfbe0-ba1a-463b-c5db-6c6c66e335b6"
      },
      "execution_count": 113,
      "outputs": [
        {
          "output_type": "execute_result",
          "data": {
            "text/plain": [
              "KNeighborsClassifier(n_neighbors=8)"
            ],
            "text/html": [
              "<style>#sk-container-id-4 {color: black;background-color: white;}#sk-container-id-4 pre{padding: 0;}#sk-container-id-4 div.sk-toggleable {background-color: white;}#sk-container-id-4 label.sk-toggleable__label {cursor: pointer;display: block;width: 100%;margin-bottom: 0;padding: 0.3em;box-sizing: border-box;text-align: center;}#sk-container-id-4 label.sk-toggleable__label-arrow:before {content: \"▸\";float: left;margin-right: 0.25em;color: #696969;}#sk-container-id-4 label.sk-toggleable__label-arrow:hover:before {color: black;}#sk-container-id-4 div.sk-estimator:hover label.sk-toggleable__label-arrow:before {color: black;}#sk-container-id-4 div.sk-toggleable__content {max-height: 0;max-width: 0;overflow: hidden;text-align: left;background-color: #f0f8ff;}#sk-container-id-4 div.sk-toggleable__content pre {margin: 0.2em;color: black;border-radius: 0.25em;background-color: #f0f8ff;}#sk-container-id-4 input.sk-toggleable__control:checked~div.sk-toggleable__content {max-height: 200px;max-width: 100%;overflow: auto;}#sk-container-id-4 input.sk-toggleable__control:checked~label.sk-toggleable__label-arrow:before {content: \"▾\";}#sk-container-id-4 div.sk-estimator input.sk-toggleable__control:checked~label.sk-toggleable__label {background-color: #d4ebff;}#sk-container-id-4 div.sk-label input.sk-toggleable__control:checked~label.sk-toggleable__label {background-color: #d4ebff;}#sk-container-id-4 input.sk-hidden--visually {border: 0;clip: rect(1px 1px 1px 1px);clip: rect(1px, 1px, 1px, 1px);height: 1px;margin: -1px;overflow: hidden;padding: 0;position: absolute;width: 1px;}#sk-container-id-4 div.sk-estimator {font-family: monospace;background-color: #f0f8ff;border: 1px dotted black;border-radius: 0.25em;box-sizing: border-box;margin-bottom: 0.5em;}#sk-container-id-4 div.sk-estimator:hover {background-color: #d4ebff;}#sk-container-id-4 div.sk-parallel-item::after {content: \"\";width: 100%;border-bottom: 1px solid gray;flex-grow: 1;}#sk-container-id-4 div.sk-label:hover label.sk-toggleable__label {background-color: #d4ebff;}#sk-container-id-4 div.sk-serial::before {content: \"\";position: absolute;border-left: 1px solid gray;box-sizing: border-box;top: 0;bottom: 0;left: 50%;z-index: 0;}#sk-container-id-4 div.sk-serial {display: flex;flex-direction: column;align-items: center;background-color: white;padding-right: 0.2em;padding-left: 0.2em;position: relative;}#sk-container-id-4 div.sk-item {position: relative;z-index: 1;}#sk-container-id-4 div.sk-parallel {display: flex;align-items: stretch;justify-content: center;background-color: white;position: relative;}#sk-container-id-4 div.sk-item::before, #sk-container-id-4 div.sk-parallel-item::before {content: \"\";position: absolute;border-left: 1px solid gray;box-sizing: border-box;top: 0;bottom: 0;left: 50%;z-index: -1;}#sk-container-id-4 div.sk-parallel-item {display: flex;flex-direction: column;z-index: 1;position: relative;background-color: white;}#sk-container-id-4 div.sk-parallel-item:first-child::after {align-self: flex-end;width: 50%;}#sk-container-id-4 div.sk-parallel-item:last-child::after {align-self: flex-start;width: 50%;}#sk-container-id-4 div.sk-parallel-item:only-child::after {width: 0;}#sk-container-id-4 div.sk-dashed-wrapped {border: 1px dashed gray;margin: 0 0.4em 0.5em 0.4em;box-sizing: border-box;padding-bottom: 0.4em;background-color: white;}#sk-container-id-4 div.sk-label label {font-family: monospace;font-weight: bold;display: inline-block;line-height: 1.2em;}#sk-container-id-4 div.sk-label-container {text-align: center;}#sk-container-id-4 div.sk-container {/* jupyter's `normalize.less` sets `[hidden] { display: none; }` but bootstrap.min.css set `[hidden] { display: none !important; }` so we also need the `!important` here to be able to override the default hidden behavior on the sphinx rendered scikit-learn.org. See: https://github.com/scikit-learn/scikit-learn/issues/21755 */display: inline-block !important;position: relative;}#sk-container-id-4 div.sk-text-repr-fallback {display: none;}</style><div id=\"sk-container-id-4\" class=\"sk-top-container\"><div class=\"sk-text-repr-fallback\"><pre>KNeighborsClassifier(n_neighbors=8)</pre><b>In a Jupyter environment, please rerun this cell to show the HTML representation or trust the notebook. <br />On GitHub, the HTML representation is unable to render, please try loading this page with nbviewer.org.</b></div><div class=\"sk-container\" hidden><div class=\"sk-item\"><div class=\"sk-estimator sk-toggleable\"><input class=\"sk-toggleable__control sk-hidden--visually\" id=\"sk-estimator-id-4\" type=\"checkbox\" checked><label for=\"sk-estimator-id-4\" class=\"sk-toggleable__label sk-toggleable__label-arrow\">KNeighborsClassifier</label><div class=\"sk-toggleable__content\"><pre>KNeighborsClassifier(n_neighbors=8)</pre></div></div></div></div></div>"
            ]
          },
          "metadata": {},
          "execution_count": 113
        }
      ]
    },
    {
      "cell_type": "markdown",
      "source": [
        "Modal Evaluation\n",
        "\n",
        "Accuracy Score"
      ],
      "metadata": {
        "id": "hwMnAjSLajnh"
      }
    },
    {
      "cell_type": "code",
      "source": [
        "X_train_prediction=knn.predict(X_train)\n",
        "trainig_data_accuracy= accuracy_score(X_train_prediction,y_train)"
      ],
      "metadata": {
        "id": "txK1ZUU-W9pf"
      },
      "execution_count": 114,
      "outputs": []
    },
    {
      "cell_type": "code",
      "source": [
        "print(\"Accuracy On Training Data : \", trainig_data_accuracy*100)"
      ],
      "metadata": {
        "colab": {
          "base_uri": "https://localhost:8080/"
        },
        "outputId": "bfd5921d-8a89-4077-f8ee-bf530d885bb2",
        "id": "5kxMBeuEW9pi"
      },
      "execution_count": 115,
      "outputs": [
        {
          "output_type": "stream",
          "name": "stdout",
          "text": [
            "Accuracy On Training Data :  58.454106280193244\n"
          ]
        }
      ]
    },
    {
      "cell_type": "code",
      "source": [
        "X_test_prediction=knn.predict(X_test)\n",
        "testing_data_accuracy= accuracy_score(X_test_prediction,y_test)"
      ],
      "metadata": {
        "id": "lYMONSYZW9pj"
      },
      "execution_count": 116,
      "outputs": []
    },
    {
      "cell_type": "code",
      "source": [
        "print(\"Accuracy On Testing Data : \", testing_data_accuracy*100)"
      ],
      "metadata": {
        "colab": {
          "base_uri": "https://localhost:8080/"
        },
        "outputId": "a75b7b3b-4a32-47b9-fe57-66fc6114fe45",
        "id": "xkq6G8mXW9pk"
      },
      "execution_count": 117,
      "outputs": [
        {
          "output_type": "stream",
          "name": "stdout",
          "text": [
            "Accuracy On Testing Data :  51.11111111111111\n"
          ]
        }
      ]
    },
    {
      "cell_type": "markdown",
      "source": [
        "Checking Accuracy using confusion matrix."
      ],
      "metadata": {
        "id": "Tqo2gQDTW9pk"
      }
    },
    {
      "cell_type": "code",
      "source": [
        "from sklearn.metrics import confusion_matrix\n",
        "cm = confusion_matrix(X_train_prediction,y_train, labels=[0, 1])\n",
        "\n",
        "print(cm)"
      ],
      "metadata": {
        "colab": {
          "base_uri": "https://localhost:8080/"
        },
        "outputId": "05d5833b-4347-4988-9698-3dc7fc7ef85f",
        "id": "F9bySe11W9pl"
      },
      "execution_count": 118,
      "outputs": [
        {
          "output_type": "stream",
          "name": "stdout",
          "text": [
            "[[98 28]\n",
            " [ 5 11]]\n"
          ]
        }
      ]
    },
    {
      "cell_type": "code",
      "source": [
        "fig, ax = plt.subplots(figsize=(7.5, 7.5))\n",
        "ax.matshow(cm, cmap=plt.cm.Blues, alpha=0.3)\n",
        "for i in range(cm.shape[0]):\n",
        "    for j in range(cm.shape[1]):\n",
        "        ax.text(x=j, y=i,s=cm[i, j], va='center', ha='center', size='xx-large')\n",
        "\n",
        "plt.xlabel('Predictions', fontsize=18)\n",
        "plt.ylabel('Actuals', fontsize=18)\n",
        "plt.title('Confusion Matrix', fontsize=18)"
      ],
      "metadata": {
        "id": "OiIqxxwDRP8J",
        "outputId": "536e0a66-989c-49c4-e81f-2b3d262bea7f",
        "colab": {
          "base_uri": "https://localhost:8080/",
          "height": 716
        }
      },
      "execution_count": 119,
      "outputs": [
        {
          "output_type": "execute_result",
          "data": {
            "text/plain": [
              "Text(0.5, 1.0, 'Confusion Matrix')"
            ]
          },
          "metadata": {},
          "execution_count": 119
        },
        {
          "output_type": "display_data",
          "data": {
            "text/plain": [
              "<Figure size 750x750 with 1 Axes>"
            ],
            "image/png": "[encoded data removed]"
          },
          "metadata": {}
        }
      ]
    },
    {
      "cell_type": "code",
      "source": [
        "tn, fp, fn, tp = confusion_matrix(list(X_train_prediction), list(y_train), labels=[0, 1]).ravel()\n",
        "\n",
        "print('True Positive', tp)\n",
        "print('True Negative', tn)\n",
        "print('False Positive', fp)\n",
        "print('False Negative', fn)"
      ],
      "metadata": {
        "colab": {
          "base_uri": "https://localhost:8080/"
        },
        "outputId": "abeac127-198b-4357-fc07-1d89ba6288f4",
        "id": "FiUqn0ysW9pl"
      },
      "execution_count": 120,
      "outputs": [
        {
          "output_type": "stream",
          "name": "stdout",
          "text": [
            "True Positive 11\n",
            "True Negative 98\n",
            "False Positive 28\n",
            "False Negative 5\n"
          ]
        }
      ]
    },
    {
      "cell_type": "code",
      "source": [
        "acc = (tp+tn) / (tp+tn+fn+fp)\n",
        "\n",
        "print('Accuracy On Training Data : ',acc)"
      ],
      "metadata": {
        "colab": {
          "base_uri": "https://localhost:8080/"
        },
        "outputId": "855be627-9429-4d75-e944-a35a3b859183",
        "id": "uJ7BvlLUW9pm"
      },
      "execution_count": 121,
      "outputs": [
        {
          "output_type": "stream",
          "name": "stdout",
          "text": [
            "Accuracy On Training Data :  0.7676056338028169\n"
          ]
        }
      ]
    },
    {
      "cell_type": "code",
      "source": [
        "tn, fp, fn, tp = confusion_matrix(list(X_test_prediction), list(y_test), labels=[0, 1]).ravel()\n",
        "\n",
        "print('True Positive', tp)\n",
        "print('True Negative', tn)\n",
        "print('False Positive', fp)\n",
        "print('False Negative', fn)"
      ],
      "metadata": {
        "colab": {
          "base_uri": "https://localhost:8080/"
        },
        "outputId": "1f168c00-23ee-41e8-c4ce-740f1721e27b",
        "id": "NHf2TiyxW9pn"
      },
      "execution_count": 122,
      "outputs": [
        {
          "output_type": "stream",
          "name": "stdout",
          "text": [
            "True Positive 2\n",
            "True Negative 44\n",
            "False Positive 7\n",
            "False Negative 10\n"
          ]
        }
      ]
    },
    {
      "cell_type": "code",
      "source": [
        "acc = (tp+tn) / (tp+tn+fn+fp)\n",
        "\n",
        "print('Accuracy On Testing Data : ',acc)"
      ],
      "metadata": {
        "colab": {
          "base_uri": "https://localhost:8080/"
        },
        "outputId": "b2f22340-2125-451b-e753-84cf230081ba",
        "id": "u_5iI6C6W9po"
      },
      "execution_count": 123,
      "outputs": [
        {
          "output_type": "stream",
          "name": "stdout",
          "text": [
            "Accuracy On Testing Data :  0.7301587301587301\n"
          ]
        }
      ]
    },
    {
      "cell_type": "code",
      "source": [],
      "metadata": {
        "id": "fMLctnQoOw4R"
      },
      "execution_count": 123,
      "outputs": []
    },
    {
      "cell_type": "markdown",
      "source": [
        "Sensitivity Score"
      ],
      "metadata": {
        "id": "Y06sXH2pOxL9"
      }
    },
    {
      "cell_type": "code",
      "source": [
        "sen = (tp)/(tp+fn)\n",
        "print('Sensitivity Score is :',sen*100)"
      ],
      "metadata": {
        "colab": {
          "base_uri": "https://localhost:8080/"
        },
        "outputId": "bdbfea3a-c8e6-440e-f001-9823663957a6",
        "id": "P_4MgZniOxL9"
      },
      "execution_count": 124,
      "outputs": [
        {
          "output_type": "stream",
          "name": "stdout",
          "text": [
            "Sensitivity Score is : 16.666666666666664\n"
          ]
        }
      ]
    },
    {
      "cell_type": "markdown",
      "source": [
        "Specificity Score"
      ],
      "metadata": {
        "id": "uR-GYXRnOxL9"
      }
    },
    {
      "cell_type": "code",
      "source": [
        "spe = (tn)/(tn+fp)\n",
        "print('Specificity Score is :',spe*100)"
      ],
      "metadata": {
        "colab": {
          "base_uri": "https://localhost:8080/"
        },
        "outputId": "39b1e7ce-332c-43a3-e71e-07c28d9c0547",
        "id": "QkHQbk-rOxL9"
      },
      "execution_count": 125,
      "outputs": [
        {
          "output_type": "stream",
          "name": "stdout",
          "text": [
            "Specificity Score is : 86.27450980392157\n"
          ]
        }
      ]
    },
    {
      "cell_type": "markdown",
      "source": [
        "Positive Predictive Value"
      ],
      "metadata": {
        "id": "as5QbFtVOxL-"
      }
    },
    {
      "cell_type": "code",
      "source": [
        "ppv = (tp)/(tp+fp)\n",
        "print('Positive Predictive Value is :',ppv*100)"
      ],
      "metadata": {
        "colab": {
          "base_uri": "https://localhost:8080/"
        },
        "outputId": "8b1d84c7-cf0a-4861-c74b-b3ccf3beafd3",
        "id": "I_SnNBohOxL-"
      },
      "execution_count": 126,
      "outputs": [
        {
          "output_type": "stream",
          "name": "stdout",
          "text": [
            "Positive Predictive Value is : 22.22222222222222\n"
          ]
        }
      ]
    },
    {
      "cell_type": "markdown",
      "source": [
        "Negative Predictive Value"
      ],
      "metadata": {
        "id": "cukXeHhaOxL-"
      }
    },
    {
      "cell_type": "code",
      "source": [
        "npv =(tn)/(tn+fn)\n",
        "print('Negative Predictive Value is :',npv*100)"
      ],
      "metadata": {
        "colab": {
          "base_uri": "https://localhost:8080/"
        },
        "outputId": "670d9d21-9657-4a3a-e655-17824c65dc11",
        "id": "dbppGDH1OxL-"
      },
      "execution_count": 127,
      "outputs": [
        {
          "output_type": "stream",
          "name": "stdout",
          "text": [
            "Negative Predictive Value is : 81.48148148148148\n"
          ]
        }
      ]
    },
    {
      "cell_type": "markdown",
      "source": [
        "#  **Artifical Neural Network Model**"
      ],
      "metadata": {
        "id": "ee7eo0n2btyG"
      }
    },
    {
      "cell_type": "markdown",
      "source": [
        "Splitting the Data into Training data and test data"
      ],
      "metadata": {
        "id": "HKT23roZb-ir"
      }
    },
    {
      "cell_type": "code",
      "source": [
        "X_train_nn,X_test_nn,y_train_nn,y_test_nn=train_test_split(X,y,random_state=10,test_size=0.3,shuffle=\"True\")"
      ],
      "metadata": {
        "id": "_mSn3CKhcKIq"
      },
      "execution_count": 128,
      "outputs": []
    },
    {
      "cell_type": "code",
      "source": [
        "nn_model = MLPClassifier()"
      ],
      "metadata": {
        "id": "lzAP_WpCcyDm"
      },
      "execution_count": 129,
      "outputs": []
    },
    {
      "cell_type": "code",
      "source": [
        "#training of the model using training data\n",
        "nn_model.fit(X_train_nn,y_train_nn)"
      ],
      "metadata": {
        "colab": {
          "base_uri": "https://localhost:8080/",
          "height": 75
        },
        "id": "pjYBDrTvcyn2",
        "outputId": "084e402e-4a6c-418d-fee0-d93b940537e0"
      },
      "execution_count": 130,
      "outputs": [
        {
          "output_type": "execute_result",
          "data": {
            "text/plain": [
              "MLPClassifier()"
            ],
            "text/html": [
              "<style>#sk-container-id-5 {color: black;background-color: white;}#sk-container-id-5 pre{padding: 0;}#sk-container-id-5 div.sk-toggleable {background-color: white;}#sk-container-id-5 label.sk-toggleable__label {cursor: pointer;display: block;width: 100%;margin-bottom: 0;padding: 0.3em;box-sizing: border-box;text-align: center;}#sk-container-id-5 label.sk-toggleable__label-arrow:before {content: \"▸\";float: left;margin-right: 0.25em;color: #696969;}#sk-container-id-5 label.sk-toggleable__label-arrow:hover:before {color: black;}#sk-container-id-5 div.sk-estimator:hover label.sk-toggleable__label-arrow:before {color: black;}#sk-container-id-5 div.sk-toggleable__content {max-height: 0;max-width: 0;overflow: hidden;text-align: left;background-color: #f0f8ff;}#sk-container-id-5 div.sk-toggleable__content pre {margin: 0.2em;color: black;border-radius: 0.25em;background-color: #f0f8ff;}#sk-container-id-5 input.sk-toggleable__control:checked~div.sk-toggleable__content {max-height: 200px;max-width: 100%;overflow: auto;}#sk-container-id-5 input.sk-toggleable__control:checked~label.sk-toggleable__label-arrow:before {content: \"▾\";}#sk-container-id-5 div.sk-estimator input.sk-toggleable__control:checked~label.sk-toggleable__label {background-color: #d4ebff;}#sk-container-id-5 div.sk-label input.sk-toggleable__control:checked~label.sk-toggleable__label {background-color: #d4ebff;}#sk-container-id-5 input.sk-hidden--visually {border: 0;clip: rect(1px 1px 1px 1px);clip: rect(1px, 1px, 1px, 1px);height: 1px;margin: -1px;overflow: hidden;padding: 0;position: absolute;width: 1px;}#sk-container-id-5 div.sk-estimator {font-family: monospace;background-color: #f0f8ff;border: 1px dotted black;border-radius: 0.25em;box-sizing: border-box;margin-bottom: 0.5em;}#sk-container-id-5 div.sk-estimator:hover {background-color: #d4ebff;}#sk-container-id-5 div.sk-parallel-item::after {content: \"\";width: 100%;border-bottom: 1px solid gray;flex-grow: 1;}#sk-container-id-5 div.sk-label:hover label.sk-toggleable__label {background-color: #d4ebff;}#sk-container-id-5 div.sk-serial::before {content: \"\";position: absolute;border-left: 1px solid gray;box-sizing: border-box;top: 0;bottom: 0;left: 50%;z-index: 0;}#sk-container-id-5 div.sk-serial {display: flex;flex-direction: column;align-items: center;background-color: white;padding-right: 0.2em;padding-left: 0.2em;position: relative;}#sk-container-id-5 div.sk-item {position: relative;z-index: 1;}#sk-container-id-5 div.sk-parallel {display: flex;align-items: stretch;justify-content: center;background-color: white;position: relative;}#sk-container-id-5 div.sk-item::before, #sk-container-id-5 div.sk-parallel-item::before {content: \"\";position: absolute;border-left: 1px solid gray;box-sizing: border-box;top: 0;bottom: 0;left: 50%;z-index: -1;}#sk-container-id-5 div.sk-parallel-item {display: flex;flex-direction: column;z-index: 1;position: relative;background-color: white;}#sk-container-id-5 div.sk-parallel-item:first-child::after {align-self: flex-end;width: 50%;}#sk-container-id-5 div.sk-parallel-item:last-child::after {align-self: flex-start;width: 50%;}#sk-container-id-5 div.sk-parallel-item:only-child::after {width: 0;}#sk-container-id-5 div.sk-dashed-wrapped {border: 1px dashed gray;margin: 0 0.4em 0.5em 0.4em;box-sizing: border-box;padding-bottom: 0.4em;background-color: white;}#sk-container-id-5 div.sk-label label {font-family: monospace;font-weight: bold;display: inline-block;line-height: 1.2em;}#sk-container-id-5 div.sk-label-container {text-align: center;}#sk-container-id-5 div.sk-container {/* jupyter's `normalize.less` sets `[hidden] { display: none; }` but bootstrap.min.css set `[hidden] { display: none !important; }` so we also need the `!important` here to be able to override the default hidden behavior on the sphinx rendered scikit-learn.org. See: https://github.com/scikit-learn/scikit-learn/issues/21755 */display: inline-block !important;position: relative;}#sk-container-id-5 div.sk-text-repr-fallback {display: none;}</style><div id=\"sk-container-id-5\" class=\"sk-top-container\"><div class=\"sk-text-repr-fallback\"><pre>MLPClassifier()</pre><b>In a Jupyter environment, please rerun this cell to show the HTML representation or trust the notebook. <br />On GitHub, the HTML representation is unable to render, please try loading this page with nbviewer.org.</b></div><div class=\"sk-container\" hidden><div class=\"sk-item\"><div class=\"sk-estimator sk-toggleable\"><input class=\"sk-toggleable__control sk-hidden--visually\" id=\"sk-estimator-id-5\" type=\"checkbox\" checked><label for=\"sk-estimator-id-5\" class=\"sk-toggleable__label sk-toggleable__label-arrow\">MLPClassifier</label><div class=\"sk-toggleable__content\"><pre>MLPClassifier()</pre></div></div></div></div></div>"
            ]
          },
          "metadata": {},
          "execution_count": 130
        }
      ]
    },
    {
      "cell_type": "markdown",
      "source": [
        "Accuracy Score"
      ],
      "metadata": {
        "id": "bm-Yb7iOdIJt"
      }
    },
    {
      "cell_type": "code",
      "source": [
        "#Accuracy on training data\n",
        "\n",
        "X_train_prediction_nn=nn_model.predict(X_train_nn)\n",
        "training_data_accuracy_nn= accuracy_score(X_train_prediction_nn,y_train_nn)\n",
        "\n",
        "print(\"Accuracy on Training Data :\",training_data_accuracy_nn*100)"
      ],
      "metadata": {
        "id": "ux9xxrSqdUt-",
        "colab": {
          "base_uri": "https://localhost:8080/"
        },
        "outputId": "540d81d8-69b5-49bf-8aa2-6357773402dc"
      },
      "execution_count": 131,
      "outputs": [
        {
          "output_type": "stream",
          "name": "stdout",
          "text": [
            "Accuracy on Training Data : 59.42028985507246\n"
          ]
        }
      ]
    },
    {
      "cell_type": "code",
      "source": [
        "#Accuracy on testing data\n",
        "X_test_prediction_nn=nn_model.predict(X_test_nn)\n",
        "testing_data_accuracy_nn=accuracy_score(X_test_prediction_nn,y_test_nn)\n",
        "print(\"Accuracy on Testing data\", testing_data_accuracy_nn*100)"
      ],
      "metadata": {
        "colab": {
          "base_uri": "https://localhost:8080/"
        },
        "id": "zhvoWa9AfYsd",
        "outputId": "29debb17-4d94-4b57-f4f6-07ad513e91bb"
      },
      "execution_count": 132,
      "outputs": [
        {
          "output_type": "stream",
          "name": "stdout",
          "text": [
            "Accuracy on Testing data 65.55555555555556\n"
          ]
        }
      ]
    },
    {
      "cell_type": "markdown",
      "source": [
        "Checking Accuracy  Confusion Matrix"
      ],
      "metadata": {
        "id": "BEpNM0FJgXuK"
      }
    },
    {
      "cell_type": "code",
      "source": [
        "from sklearn.metrics import confusion_matrix\n",
        "cm_nn = confusion_matrix(X_train_prediction_nn,y_train_nn, labels=[0, 1])\n",
        "\n",
        "print(cm_nn)"
      ],
      "metadata": {
        "colab": {
          "base_uri": "https://localhost:8080/"
        },
        "id": "OhLchYNcgcrd",
        "outputId": "a67f66b3-07cb-4a26-fe46-c13e265fcfd7"
      },
      "execution_count": 133,
      "outputs": [
        {
          "output_type": "stream",
          "name": "stdout",
          "text": [
            "[[102  29]\n",
            " [  0   4]]\n"
          ]
        }
      ]
    },
    {
      "cell_type": "code",
      "source": [
        "fig, ax = plt.subplots(figsize=(7.5, 7.5))\n",
        "ax.matshow(cm_nn, cmap=plt.cm.Blues, alpha=0.3)\n",
        "for i in range(cm_nn.shape[0]):\n",
        "    for j in range(cm_nn.shape[1]):\n",
        "        ax.text(x=j, y=i,s=cm_nn[i, j], va='center', ha='center', size='xx-large')\n",
        "\n",
        "plt.xlabel('Predictions', fontsize=18)\n",
        "plt.ylabel('Actuals', fontsize=18)\n",
        "plt.title('Confusion Matrix', fontsize=18)"
      ],
      "metadata": {
        "id": "_f47oWtxRS8K",
        "outputId": "f1f889bf-62c7-4008-891f-753a5791694b",
        "colab": {
          "base_uri": "https://localhost:8080/",
          "height": 716
        }
      },
      "execution_count": 134,
      "outputs": [
        {
          "output_type": "execute_result",
          "data": {
            "text/plain": [
              "Text(0.5, 1.0, 'Confusion Matrix')"
            ]
          },
          "metadata": {},
          "execution_count": 134
        },
        {
          "output_type": "display_data",
          "data": {
            "text/plain": [
              "<Figure size 750x750 with 1 Axes>"
            ],
            "image/png": "[encoded data removed]"
          },
          "metadata": {}
        }
      ]
    },
    {
      "cell_type": "code",
      "source": [
        "tn, fp, fn, tp = confusion_matrix(list(X_train_prediction_nn), list(y_train_nn), labels=[0, 1]).ravel()\n",
        "\n",
        "print('True Positive', tp)\n",
        "print('True Negative', tn)\n",
        "print('False Positive', fp)\n",
        "print('False Negative', fn)"
      ],
      "metadata": {
        "colab": {
          "base_uri": "https://localhost:8080/"
        },
        "id": "vbjM2YmLgs19",
        "outputId": "289d6b52-341f-4387-c359-dc7266b71416"
      },
      "execution_count": 135,
      "outputs": [
        {
          "output_type": "stream",
          "name": "stdout",
          "text": [
            "True Positive 4\n",
            "True Negative 102\n",
            "False Positive 29\n",
            "False Negative 0\n"
          ]
        }
      ]
    },
    {
      "cell_type": "code",
      "source": [
        "acc_nn = (tp+tn) / (tp+tn+fn+fp)\n",
        "\n",
        "print('Accuracy On Training Data : ',acc*100)"
      ],
      "metadata": {
        "colab": {
          "base_uri": "https://localhost:8080/"
        },
        "id": "87OwIh5zg3p1",
        "outputId": "3293f25e-7b20-4fed-a3d0-c877e88ba955"
      },
      "execution_count": 136,
      "outputs": [
        {
          "output_type": "stream",
          "name": "stdout",
          "text": [
            "Accuracy On Training Data :  73.01587301587301\n"
          ]
        }
      ]
    },
    {
      "cell_type": "code",
      "source": [],
      "metadata": {
        "id": "Q5czNEKVOzGe"
      },
      "execution_count": 136,
      "outputs": []
    },
    {
      "cell_type": "markdown",
      "source": [
        "Sensitivity Score"
      ],
      "metadata": {
        "id": "WLn8rcZWOzXs"
      }
    },
    {
      "cell_type": "code",
      "source": [
        "sen = (tp)/(tp+fn)\n",
        "print('Sensitivity Score is :',sen*100)"
      ],
      "metadata": {
        "colab": {
          "base_uri": "https://localhost:8080/"
        },
        "outputId": "103de7ad-3aec-48e7-dc66-43a4e84f2d03",
        "id": "NoIjUMUKOzXs"
      },
      "execution_count": 137,
      "outputs": [
        {
          "output_type": "stream",
          "name": "stdout",
          "text": [
            "Sensitivity Score is : 100.0\n"
          ]
        }
      ]
    },
    {
      "cell_type": "markdown",
      "source": [
        "Specificity Score"
      ],
      "metadata": {
        "id": "9XjBG5PzOzXs"
      }
    },
    {
      "cell_type": "code",
      "source": [
        "spe = (tn)/(tn+fp)\n",
        "print('Specificity Score is :',spe*100)"
      ],
      "metadata": {
        "colab": {
          "base_uri": "https://localhost:8080/"
        },
        "outputId": "ec4cce67-f7be-48de-dd8d-de7044f39aaf",
        "id": "hJlajudLOzXt"
      },
      "execution_count": 138,
      "outputs": [
        {
          "output_type": "stream",
          "name": "stdout",
          "text": [
            "Specificity Score is : 77.86259541984732\n"
          ]
        }
      ]
    },
    {
      "cell_type": "markdown",
      "source": [
        "Positive Predictive Value"
      ],
      "metadata": {
        "id": "5gBdHxMnOzXt"
      }
    },
    {
      "cell_type": "code",
      "source": [
        "ppv = (tp)/(tp+fp)\n",
        "print('Positive Predictive Value is :',ppv*100)"
      ],
      "metadata": {
        "colab": {
          "base_uri": "https://localhost:8080/"
        },
        "outputId": "d1f518af-260e-4761-fd2c-6d633f9c3350",
        "id": "6VQ_N5xnOzXt"
      },
      "execution_count": 139,
      "outputs": [
        {
          "output_type": "stream",
          "name": "stdout",
          "text": [
            "Positive Predictive Value is : 12.121212121212121\n"
          ]
        }
      ]
    },
    {
      "cell_type": "markdown",
      "source": [
        "Negative Predictive Value"
      ],
      "metadata": {
        "id": "x2bkZGFIOzXt"
      }
    },
    {
      "cell_type": "code",
      "source": [
        "npv =(tn)/(tn+fn)\n",
        "print('Negative Predictive Value is :',npv*100)"
      ],
      "metadata": {
        "colab": {
          "base_uri": "https://localhost:8080/"
        },
        "outputId": "20ae86d8-7e2e-4a20-9078-98cf1f8d4b6d",
        "id": "nfIJJUyLOzXt"
      },
      "execution_count": 140,
      "outputs": [
        {
          "output_type": "stream",
          "name": "stdout",
          "text": [
            "Negative Predictive Value is : 100.0\n"
          ]
        }
      ]
    },
    {
      "cell_type": "markdown",
      "source": [
        "# **Input Data to Predict Risk**"
      ],
      "metadata": {
        "id": "nFtX69w4Emqu"
      }
    },
    {
      "cell_type": "code",
      "source": [
        "input_data=(21,1,1,130,210,0,0,200,0,1.8,2,0,0)\n",
        "\n",
        "#change input data to a numpy array\n",
        "input_data_as_numpy_array=np.asarray(input_data)\n",
        "\n",
        "#reshape the numpy array as we are predicting for only one instance\n",
        "input_data_reshaped=input_data_as_numpy_array.reshape(1,-1)\n",
        "prediction0=binary_model.predict(input_data_reshaped)\n",
        "print(\"Using Binary Classification Model\")\n",
        "print(prediction0)\n",
        "if (prediction0[0]==0):\n",
        "  print('The person does not have Heart Disease')\n",
        "  print()\n",
        "else:\n",
        "  print('The person has Heart Disease')\n",
        "  print()\n",
        "prediction1=LR.predict(input_data_reshaped)\n",
        "print(\"Using Linear Regression Model\")\n",
        "print(prediction1)\n",
        "if (prediction1[0]==0):\n",
        "  print('The person does not have Heart Disease')\n",
        "  print()\n",
        "else:\n",
        "  print('The person has Heart Disease')\n",
        "  print()\n",
        "prediction2=NB.predict(input_data_reshaped)\n",
        "print(\"Using Multinomial Naive Bayes Model\")\n",
        "print(prediction2)\n",
        "if (prediction2[0]==0):\n",
        "  print('The person does not have Heart Disease')\n",
        "  print()\n",
        "else:\n",
        "  print('The person has Heart Disease')\n",
        "  print()\n",
        "prediction3=dt.predict(input_data_reshaped)\n",
        "print(\"Using Decision Tree Model\")\n",
        "print(prediction3)\n",
        "if (prediction3[0]==0):\n",
        "  print('The person does not have Heart Disease')\n",
        "  print()\n",
        "else:\n",
        "  print('The person has Heart Disease')\n",
        "  print()\n",
        "prediction4=knn.predict(input_data_reshaped)\n",
        "print(\"Using  K Nearest Neighbour Model\")\n",
        "print(prediction4)\n",
        "if (prediction4[0]==0):\n",
        "  print('The person does not have Heart Disease')\n",
        "  print()\n",
        "else:\n",
        "  print('The person has Heart Disease')\n",
        "  print()\n",
        "\n",
        "prediction5=nn_model.predict(input_data_reshaped)\n",
        "print(\"Using Artificial Neural Network Model\")\n",
        "print(prediction5)\n",
        "if (prediction5[0]==0):\n",
        "  print('The person does not have Heart Disease')\n",
        "  print()\n",
        "else:\n",
        "  print('The person has Heart Disease')\n",
        "  print()\n",
        "\n",
        "final_verdict=int(prediction1+prediction2+prediction3+prediction4+prediction5)\n",
        "if final_verdict>=3:\n",
        "     print(\"----------------------------------------------------------------------------------------------------------------------------------------------------------------------------\")\n",
        "     print('***FINAL VERDICT: The person has Heart Disease***')\n",
        "     print(\"----------------------------------------------------------------------------------------------------------------------------------------------------------------------------\")\n",
        "else:\n",
        "     print(\"----------------------------------------------------------------------------------------------------------------------------------------------------------------------------\")\n",
        "     print('***FINAL VERDICT: The person does not have Heart Disease***')\n",
        "     print(\"----------------------------------------------------------------------------------------------------------------------------------------------------------------------------\")\n"
      ],
      "metadata": {
        "id": "f_V4f9N0Eqym",
        "colab": {
          "base_uri": "https://localhost:8080/"
        },
        "outputId": "cfcf9a49-f62f-411f-e1fd-6c0b0658bc19"
      },
      "execution_count": 141,
      "outputs": [
        {
          "output_type": "stream",
          "name": "stdout",
          "text": [
            "1/1 [==============================] - 0s 59ms/step\n",
            "Using Binary Classification Model\n",
            "[[0.01594935]]\n",
            "The person has Heart Disease\n",
            "\n",
            "Using Linear Regression Model\n",
            "[0]\n",
            "The person does not have Heart Disease\n",
            "\n",
            "Using Multinomial Naive Bayes Model\n",
            "[0]\n",
            "The person does not have Heart Disease\n",
            "\n",
            "Using Decision Tree Model\n",
            "[0]\n",
            "The person does not have Heart Disease\n",
            "\n",
            "Using  K Nearest Neighbour Model\n",
            "[0]\n",
            "The person does not have Heart Disease\n",
            "\n",
            "Using Artificial Neural Network Model\n",
            "[0]\n",
            "The person does not have Heart Disease\n",
            "\n",
            "----------------------------------------------------------------------------------------------------------------------------------------------------------------------------\n",
            "***FINAL VERDICT: The person does not have Heart Disease***\n",
            "----------------------------------------------------------------------------------------------------------------------------------------------------------------------------\n"
          ]
        },
        {
          "output_type": "stream",
          "name": "stderr",
          "text": [
            "/usr/local/lib/python3.10/dist-packages/sklearn/base.py:439: UserWarning: X does not have valid feature names, but LogisticRegression was fitted with feature names\n",
            "  warnings.warn(\n",
            "/usr/local/lib/python3.10/dist-packages/sklearn/base.py:439: UserWarning: X does not have valid feature names, but MultinomialNB was fitted with feature names\n",
            "  warnings.warn(\n",
            "/usr/local/lib/python3.10/dist-packages/sklearn/base.py:439: UserWarning: X does not have valid feature names, but DecisionTreeClassifier was fitted with feature names\n",
            "  warnings.warn(\n",
            "/usr/local/lib/python3.10/dist-packages/sklearn/base.py:439: UserWarning: X does not have valid feature names, but KNeighborsClassifier was fitted with feature names\n",
            "  warnings.warn(\n",
            "/usr/local/lib/python3.10/dist-packages/sklearn/base.py:439: UserWarning: X does not have valid feature names, but MLPClassifier was fitted with feature names\n",
            "  warnings.warn(\n"
          ]
        }
      ]
    },
    {
      "cell_type": "code",
      "source": [],
      "metadata": {
        "id": "JcrQZqjwk8Qc"
      },
      "execution_count": 141,
      "outputs": []
    }
  ]
}